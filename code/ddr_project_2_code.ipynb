{
 "cells": [
  {
   "cell_type": "markdown",
   "id": "fa194d37-9f90-400b-801f-6d87e548a60e",
   "metadata": {},
   "source": [
    "# Project 2 Regression Challenge\n",
    "## Daniel Rossetti"
   ]
  },
  {
   "cell_type": "markdown",
   "id": "3992c8ed-fe5c-43d8-b3c0-481fe930d2e8",
   "metadata": {},
   "source": [
    "# 0 - Problem Statement:\n",
    "\n",
    "This is report is written from the standpoint of a data science consultant who has been hired by Zillow to prototype a home sale price estimator that can be used by website users to estimate the value of their home.  Home sale data from Ames, Iowa have been provided as a starter set and include information on almost 80 different attributes of the home or the sale itself.  This data will be used to train a linear regression model which will use a subset of these attributes to predict a home sale price.  The model quality will be evaluated against the mean average error of the predictions on the training dataset selected.  The target error is to be within $30,000 of the actual home price on average.  If successful, the methods used to create this prototype model will be employed to predict home values in other areas of the country to understand it's general applicability with the ultimate goal of being rolled out onto the Zillow website for users.\n",
    "\n",
    "If time allows, this model will also examine the effect of time, indicating a shift in greater housing market trends, on the model.\n",
    "\n",
    "## <font color = 'red'>Notes:\n",
    "* <font color = 'red'>Go back and check the metric if it should be mean average percent error or mean average error"
   ]
  },
  {
   "cell_type": "markdown",
   "id": "80066426-2d6a-4938-af25-27579b4f8446",
   "metadata": {},
   "source": [
    "# 1 - Import Libraries and Read Data"
   ]
  },
  {
   "cell_type": "code",
   "execution_count": 62,
   "id": "dccb149c-f3eb-4f70-89e6-e26242a98bb3",
   "metadata": {},
   "outputs": [],
   "source": [
    "# Imports\n",
    "import pandas as pd\n",
    "import numpy as np\n",
    "import matplotlib.pyplot as plt\n",
    "import seaborn as sns\n",
    "\n",
    "from sklearn.linear_model import LinearRegression\n",
    "from sklearn.metrics import mean_squared_error\n",
    "from sklearn.metrics import mean_absolute_error\n",
    "\n",
    "from sklearn.model_selection import train_test_split, cross_val_score\n",
    "#from sklearn import metrics"
   ]
  },
  {
   "cell_type": "code",
   "execution_count": 2,
   "id": "9c67cfa3-1f5f-41ee-bba9-fc1187b944f7",
   "metadata": {},
   "outputs": [
    {
     "name": "stdout",
     "output_type": "stream",
     "text": [
      "(2051, 81)\n"
     ]
    },
    {
     "data": {
      "text/html": [
       "<div>\n",
       "<style scoped>\n",
       "    .dataframe tbody tr th:only-of-type {\n",
       "        vertical-align: middle;\n",
       "    }\n",
       "\n",
       "    .dataframe tbody tr th {\n",
       "        vertical-align: top;\n",
       "    }\n",
       "\n",
       "    .dataframe thead th {\n",
       "        text-align: right;\n",
       "    }\n",
       "</style>\n",
       "<table border=\"1\" class=\"dataframe\">\n",
       "  <thead>\n",
       "    <tr style=\"text-align: right;\">\n",
       "      <th></th>\n",
       "      <th>Id</th>\n",
       "      <th>PID</th>\n",
       "      <th>MS SubClass</th>\n",
       "      <th>MS Zoning</th>\n",
       "      <th>Lot Frontage</th>\n",
       "      <th>Lot Area</th>\n",
       "      <th>Street</th>\n",
       "      <th>Alley</th>\n",
       "      <th>Lot Shape</th>\n",
       "      <th>Land Contour</th>\n",
       "      <th>...</th>\n",
       "      <th>Screen Porch</th>\n",
       "      <th>Pool Area</th>\n",
       "      <th>Pool QC</th>\n",
       "      <th>Fence</th>\n",
       "      <th>Misc Feature</th>\n",
       "      <th>Misc Val</th>\n",
       "      <th>Mo Sold</th>\n",
       "      <th>Yr Sold</th>\n",
       "      <th>Sale Type</th>\n",
       "      <th>SalePrice</th>\n",
       "    </tr>\n",
       "  </thead>\n",
       "  <tbody>\n",
       "    <tr>\n",
       "      <th>0</th>\n",
       "      <td>109</td>\n",
       "      <td>533352170</td>\n",
       "      <td>60</td>\n",
       "      <td>RL</td>\n",
       "      <td>NaN</td>\n",
       "      <td>13517</td>\n",
       "      <td>Pave</td>\n",
       "      <td>NaN</td>\n",
       "      <td>IR1</td>\n",
       "      <td>Lvl</td>\n",
       "      <td>...</td>\n",
       "      <td>0</td>\n",
       "      <td>0</td>\n",
       "      <td>NaN</td>\n",
       "      <td>NaN</td>\n",
       "      <td>NaN</td>\n",
       "      <td>0</td>\n",
       "      <td>3</td>\n",
       "      <td>2010</td>\n",
       "      <td>WD</td>\n",
       "      <td>130500</td>\n",
       "    </tr>\n",
       "    <tr>\n",
       "      <th>1</th>\n",
       "      <td>544</td>\n",
       "      <td>531379050</td>\n",
       "      <td>60</td>\n",
       "      <td>RL</td>\n",
       "      <td>43.0</td>\n",
       "      <td>11492</td>\n",
       "      <td>Pave</td>\n",
       "      <td>NaN</td>\n",
       "      <td>IR1</td>\n",
       "      <td>Lvl</td>\n",
       "      <td>...</td>\n",
       "      <td>0</td>\n",
       "      <td>0</td>\n",
       "      <td>NaN</td>\n",
       "      <td>NaN</td>\n",
       "      <td>NaN</td>\n",
       "      <td>0</td>\n",
       "      <td>4</td>\n",
       "      <td>2009</td>\n",
       "      <td>WD</td>\n",
       "      <td>220000</td>\n",
       "    </tr>\n",
       "    <tr>\n",
       "      <th>2</th>\n",
       "      <td>153</td>\n",
       "      <td>535304180</td>\n",
       "      <td>20</td>\n",
       "      <td>RL</td>\n",
       "      <td>68.0</td>\n",
       "      <td>7922</td>\n",
       "      <td>Pave</td>\n",
       "      <td>NaN</td>\n",
       "      <td>Reg</td>\n",
       "      <td>Lvl</td>\n",
       "      <td>...</td>\n",
       "      <td>0</td>\n",
       "      <td>0</td>\n",
       "      <td>NaN</td>\n",
       "      <td>NaN</td>\n",
       "      <td>NaN</td>\n",
       "      <td>0</td>\n",
       "      <td>1</td>\n",
       "      <td>2010</td>\n",
       "      <td>WD</td>\n",
       "      <td>109000</td>\n",
       "    </tr>\n",
       "    <tr>\n",
       "      <th>3</th>\n",
       "      <td>318</td>\n",
       "      <td>916386060</td>\n",
       "      <td>60</td>\n",
       "      <td>RL</td>\n",
       "      <td>73.0</td>\n",
       "      <td>9802</td>\n",
       "      <td>Pave</td>\n",
       "      <td>NaN</td>\n",
       "      <td>Reg</td>\n",
       "      <td>Lvl</td>\n",
       "      <td>...</td>\n",
       "      <td>0</td>\n",
       "      <td>0</td>\n",
       "      <td>NaN</td>\n",
       "      <td>NaN</td>\n",
       "      <td>NaN</td>\n",
       "      <td>0</td>\n",
       "      <td>4</td>\n",
       "      <td>2010</td>\n",
       "      <td>WD</td>\n",
       "      <td>174000</td>\n",
       "    </tr>\n",
       "    <tr>\n",
       "      <th>4</th>\n",
       "      <td>255</td>\n",
       "      <td>906425045</td>\n",
       "      <td>50</td>\n",
       "      <td>RL</td>\n",
       "      <td>82.0</td>\n",
       "      <td>14235</td>\n",
       "      <td>Pave</td>\n",
       "      <td>NaN</td>\n",
       "      <td>IR1</td>\n",
       "      <td>Lvl</td>\n",
       "      <td>...</td>\n",
       "      <td>0</td>\n",
       "      <td>0</td>\n",
       "      <td>NaN</td>\n",
       "      <td>NaN</td>\n",
       "      <td>NaN</td>\n",
       "      <td>0</td>\n",
       "      <td>3</td>\n",
       "      <td>2010</td>\n",
       "      <td>WD</td>\n",
       "      <td>138500</td>\n",
       "    </tr>\n",
       "  </tbody>\n",
       "</table>\n",
       "<p>5 rows × 81 columns</p>\n",
       "</div>"
      ],
      "text/plain": [
       "    Id        PID  MS SubClass MS Zoning  Lot Frontage  Lot Area Street Alley  \\\n",
       "0  109  533352170           60        RL           NaN     13517   Pave   NaN   \n",
       "1  544  531379050           60        RL          43.0     11492   Pave   NaN   \n",
       "2  153  535304180           20        RL          68.0      7922   Pave   NaN   \n",
       "3  318  916386060           60        RL          73.0      9802   Pave   NaN   \n",
       "4  255  906425045           50        RL          82.0     14235   Pave   NaN   \n",
       "\n",
       "  Lot Shape Land Contour  ... Screen Porch Pool Area Pool QC Fence  \\\n",
       "0       IR1          Lvl  ...            0         0     NaN   NaN   \n",
       "1       IR1          Lvl  ...            0         0     NaN   NaN   \n",
       "2       Reg          Lvl  ...            0         0     NaN   NaN   \n",
       "3       Reg          Lvl  ...            0         0     NaN   NaN   \n",
       "4       IR1          Lvl  ...            0         0     NaN   NaN   \n",
       "\n",
       "  Misc Feature Misc Val Mo Sold Yr Sold  Sale Type  SalePrice  \n",
       "0          NaN        0       3    2010        WD      130500  \n",
       "1          NaN        0       4    2009        WD      220000  \n",
       "2          NaN        0       1    2010        WD      109000  \n",
       "3          NaN        0       4    2010        WD      174000  \n",
       "4          NaN        0       3    2010        WD      138500  \n",
       "\n",
       "[5 rows x 81 columns]"
      ]
     },
     "execution_count": 2,
     "metadata": {},
     "output_type": "execute_result"
    }
   ],
   "source": [
    "# Read Training Data\n",
    "train = pd.read_csv('../datasets/train.csv')\n",
    "\n",
    "# Retrieve the shape of the dataset to evaluate size\n",
    "print(train.shape)\n",
    "\n",
    "train.head()"
   ]
  },
  {
   "cell_type": "code",
   "execution_count": 3,
   "id": "109118d5-fd7f-4bfc-bb25-151f7cda3e50",
   "metadata": {},
   "outputs": [
    {
     "name": "stdout",
     "output_type": "stream",
     "text": [
      "(878, 80)\n"
     ]
    },
    {
     "data": {
      "text/html": [
       "<div>\n",
       "<style scoped>\n",
       "    .dataframe tbody tr th:only-of-type {\n",
       "        vertical-align: middle;\n",
       "    }\n",
       "\n",
       "    .dataframe tbody tr th {\n",
       "        vertical-align: top;\n",
       "    }\n",
       "\n",
       "    .dataframe thead th {\n",
       "        text-align: right;\n",
       "    }\n",
       "</style>\n",
       "<table border=\"1\" class=\"dataframe\">\n",
       "  <thead>\n",
       "    <tr style=\"text-align: right;\">\n",
       "      <th></th>\n",
       "      <th>Id</th>\n",
       "      <th>PID</th>\n",
       "      <th>MS SubClass</th>\n",
       "      <th>MS Zoning</th>\n",
       "      <th>Lot Frontage</th>\n",
       "      <th>Lot Area</th>\n",
       "      <th>Street</th>\n",
       "      <th>Alley</th>\n",
       "      <th>Lot Shape</th>\n",
       "      <th>Land Contour</th>\n",
       "      <th>...</th>\n",
       "      <th>3Ssn Porch</th>\n",
       "      <th>Screen Porch</th>\n",
       "      <th>Pool Area</th>\n",
       "      <th>Pool QC</th>\n",
       "      <th>Fence</th>\n",
       "      <th>Misc Feature</th>\n",
       "      <th>Misc Val</th>\n",
       "      <th>Mo Sold</th>\n",
       "      <th>Yr Sold</th>\n",
       "      <th>Sale Type</th>\n",
       "    </tr>\n",
       "  </thead>\n",
       "  <tbody>\n",
       "    <tr>\n",
       "      <th>0</th>\n",
       "      <td>2658</td>\n",
       "      <td>902301120</td>\n",
       "      <td>190</td>\n",
       "      <td>RM</td>\n",
       "      <td>69.0</td>\n",
       "      <td>9142</td>\n",
       "      <td>Pave</td>\n",
       "      <td>Grvl</td>\n",
       "      <td>Reg</td>\n",
       "      <td>Lvl</td>\n",
       "      <td>...</td>\n",
       "      <td>0</td>\n",
       "      <td>0</td>\n",
       "      <td>0</td>\n",
       "      <td>NaN</td>\n",
       "      <td>NaN</td>\n",
       "      <td>NaN</td>\n",
       "      <td>0</td>\n",
       "      <td>4</td>\n",
       "      <td>2006</td>\n",
       "      <td>WD</td>\n",
       "    </tr>\n",
       "    <tr>\n",
       "      <th>1</th>\n",
       "      <td>2718</td>\n",
       "      <td>905108090</td>\n",
       "      <td>90</td>\n",
       "      <td>RL</td>\n",
       "      <td>NaN</td>\n",
       "      <td>9662</td>\n",
       "      <td>Pave</td>\n",
       "      <td>NaN</td>\n",
       "      <td>IR1</td>\n",
       "      <td>Lvl</td>\n",
       "      <td>...</td>\n",
       "      <td>0</td>\n",
       "      <td>0</td>\n",
       "      <td>0</td>\n",
       "      <td>NaN</td>\n",
       "      <td>NaN</td>\n",
       "      <td>NaN</td>\n",
       "      <td>0</td>\n",
       "      <td>8</td>\n",
       "      <td>2006</td>\n",
       "      <td>WD</td>\n",
       "    </tr>\n",
       "    <tr>\n",
       "      <th>2</th>\n",
       "      <td>2414</td>\n",
       "      <td>528218130</td>\n",
       "      <td>60</td>\n",
       "      <td>RL</td>\n",
       "      <td>58.0</td>\n",
       "      <td>17104</td>\n",
       "      <td>Pave</td>\n",
       "      <td>NaN</td>\n",
       "      <td>IR1</td>\n",
       "      <td>Lvl</td>\n",
       "      <td>...</td>\n",
       "      <td>0</td>\n",
       "      <td>0</td>\n",
       "      <td>0</td>\n",
       "      <td>NaN</td>\n",
       "      <td>NaN</td>\n",
       "      <td>NaN</td>\n",
       "      <td>0</td>\n",
       "      <td>9</td>\n",
       "      <td>2006</td>\n",
       "      <td>New</td>\n",
       "    </tr>\n",
       "    <tr>\n",
       "      <th>3</th>\n",
       "      <td>1989</td>\n",
       "      <td>902207150</td>\n",
       "      <td>30</td>\n",
       "      <td>RM</td>\n",
       "      <td>60.0</td>\n",
       "      <td>8520</td>\n",
       "      <td>Pave</td>\n",
       "      <td>NaN</td>\n",
       "      <td>Reg</td>\n",
       "      <td>Lvl</td>\n",
       "      <td>...</td>\n",
       "      <td>0</td>\n",
       "      <td>0</td>\n",
       "      <td>0</td>\n",
       "      <td>NaN</td>\n",
       "      <td>NaN</td>\n",
       "      <td>NaN</td>\n",
       "      <td>0</td>\n",
       "      <td>7</td>\n",
       "      <td>2007</td>\n",
       "      <td>WD</td>\n",
       "    </tr>\n",
       "    <tr>\n",
       "      <th>4</th>\n",
       "      <td>625</td>\n",
       "      <td>535105100</td>\n",
       "      <td>20</td>\n",
       "      <td>RL</td>\n",
       "      <td>NaN</td>\n",
       "      <td>9500</td>\n",
       "      <td>Pave</td>\n",
       "      <td>NaN</td>\n",
       "      <td>IR1</td>\n",
       "      <td>Lvl</td>\n",
       "      <td>...</td>\n",
       "      <td>0</td>\n",
       "      <td>185</td>\n",
       "      <td>0</td>\n",
       "      <td>NaN</td>\n",
       "      <td>NaN</td>\n",
       "      <td>NaN</td>\n",
       "      <td>0</td>\n",
       "      <td>7</td>\n",
       "      <td>2009</td>\n",
       "      <td>WD</td>\n",
       "    </tr>\n",
       "  </tbody>\n",
       "</table>\n",
       "<p>5 rows × 80 columns</p>\n",
       "</div>"
      ],
      "text/plain": [
       "     Id        PID  MS SubClass MS Zoning  Lot Frontage  Lot Area Street  \\\n",
       "0  2658  902301120          190        RM          69.0      9142   Pave   \n",
       "1  2718  905108090           90        RL           NaN      9662   Pave   \n",
       "2  2414  528218130           60        RL          58.0     17104   Pave   \n",
       "3  1989  902207150           30        RM          60.0      8520   Pave   \n",
       "4   625  535105100           20        RL           NaN      9500   Pave   \n",
       "\n",
       "  Alley Lot Shape Land Contour  ... 3Ssn Porch Screen Porch Pool Area Pool QC  \\\n",
       "0  Grvl       Reg          Lvl  ...          0            0         0     NaN   \n",
       "1   NaN       IR1          Lvl  ...          0            0         0     NaN   \n",
       "2   NaN       IR1          Lvl  ...          0            0         0     NaN   \n",
       "3   NaN       Reg          Lvl  ...          0            0         0     NaN   \n",
       "4   NaN       IR1          Lvl  ...          0          185         0     NaN   \n",
       "\n",
       "  Fence Misc Feature Misc Val Mo Sold  Yr Sold  Sale Type  \n",
       "0   NaN          NaN        0       4     2006        WD   \n",
       "1   NaN          NaN        0       8     2006        WD   \n",
       "2   NaN          NaN        0       9     2006        New  \n",
       "3   NaN          NaN        0       7     2007        WD   \n",
       "4   NaN          NaN        0       7     2009        WD   \n",
       "\n",
       "[5 rows x 80 columns]"
      ]
     },
     "execution_count": 3,
     "metadata": {},
     "output_type": "execute_result"
    }
   ],
   "source": [
    "# Read Test Data\n",
    "test = pd.read_csv('../datasets/test.csv')\n",
    "\n",
    "# Retrieve the shape of the dataset to evaluate size\n",
    "print(test.shape)\n",
    "test.head()"
   ]
  },
  {
   "cell_type": "markdown",
   "id": "876cfe39-f39b-43b2-a15d-5e267da7b088",
   "metadata": {},
   "source": [
    "# 2 - Data Pre-processing and Preliminary Model Feature Selection\n",
    "\n",
    "### Strategy:\n",
    "* Initial checks and evaluations must be performed on the whole dataset\n",
    "* Light data cleaning will occur to remove data that are not usable\n",
    "* Analysis will be performed prior to down-selecting the attributes (columns / features) that will be used in the first model"
   ]
  },
  {
   "cell_type": "markdown",
   "id": "88b28328-45a9-462c-842c-5152a37ad340",
   "metadata": {},
   "source": [
    "## 2.1 - Check Dataframe Integrity, Check for Null Values"
   ]
  },
  {
   "cell_type": "markdown",
   "id": "9f02a09d-e810-4ba6-904e-4892b5efaefa",
   "metadata": {
    "tags": []
   },
   "source": [
    "### 2.1.1 - Check Data Integrity (Data Types)"
   ]
  },
  {
   "cell_type": "code",
   "execution_count": 4,
   "id": "7a9937e3-4545-45a8-980d-9bc764eaabbc",
   "metadata": {},
   "outputs": [
    {
     "name": "stdout",
     "output_type": "stream",
     "text": [
      "<class 'pandas.core.frame.DataFrame'>\n",
      "RangeIndex: 2051 entries, 0 to 2050\n",
      "Data columns (total 81 columns):\n",
      " #   Column           Non-Null Count  Dtype  \n",
      "---  ------           --------------  -----  \n",
      " 0   Id               2051 non-null   int64  \n",
      " 1   PID              2051 non-null   int64  \n",
      " 2   MS SubClass      2051 non-null   int64  \n",
      " 3   MS Zoning        2051 non-null   object \n",
      " 4   Lot Frontage     1721 non-null   float64\n",
      " 5   Lot Area         2051 non-null   int64  \n",
      " 6   Street           2051 non-null   object \n",
      " 7   Alley            140 non-null    object \n",
      " 8   Lot Shape        2051 non-null   object \n",
      " 9   Land Contour     2051 non-null   object \n",
      " 10  Utilities        2051 non-null   object \n",
      " 11  Lot Config       2051 non-null   object \n",
      " 12  Land Slope       2051 non-null   object \n",
      " 13  Neighborhood     2051 non-null   object \n",
      " 14  Condition 1      2051 non-null   object \n",
      " 15  Condition 2      2051 non-null   object \n",
      " 16  Bldg Type        2051 non-null   object \n",
      " 17  House Style      2051 non-null   object \n",
      " 18  Overall Qual     2051 non-null   int64  \n",
      " 19  Overall Cond     2051 non-null   int64  \n",
      " 20  Year Built       2051 non-null   int64  \n",
      " 21  Year Remod/Add   2051 non-null   int64  \n",
      " 22  Roof Style       2051 non-null   object \n",
      " 23  Roof Matl        2051 non-null   object \n",
      " 24  Exterior 1st     2051 non-null   object \n",
      " 25  Exterior 2nd     2051 non-null   object \n",
      " 26  Mas Vnr Type     2029 non-null   object \n",
      " 27  Mas Vnr Area     2029 non-null   float64\n",
      " 28  Exter Qual       2051 non-null   object \n",
      " 29  Exter Cond       2051 non-null   object \n",
      " 30  Foundation       2051 non-null   object \n",
      " 31  Bsmt Qual        1996 non-null   object \n",
      " 32  Bsmt Cond        1996 non-null   object \n",
      " 33  Bsmt Exposure    1993 non-null   object \n",
      " 34  BsmtFin Type 1   1996 non-null   object \n",
      " 35  BsmtFin SF 1     2050 non-null   float64\n",
      " 36  BsmtFin Type 2   1995 non-null   object \n",
      " 37  BsmtFin SF 2     2050 non-null   float64\n",
      " 38  Bsmt Unf SF      2050 non-null   float64\n",
      " 39  Total Bsmt SF    2050 non-null   float64\n",
      " 40  Heating          2051 non-null   object \n",
      " 41  Heating QC       2051 non-null   object \n",
      " 42  Central Air      2051 non-null   object \n",
      " 43  Electrical       2051 non-null   object \n",
      " 44  1st Flr SF       2051 non-null   int64  \n",
      " 45  2nd Flr SF       2051 non-null   int64  \n",
      " 46  Low Qual Fin SF  2051 non-null   int64  \n",
      " 47  Gr Liv Area      2051 non-null   int64  \n",
      " 48  Bsmt Full Bath   2049 non-null   float64\n",
      " 49  Bsmt Half Bath   2049 non-null   float64\n",
      " 50  Full Bath        2051 non-null   int64  \n",
      " 51  Half Bath        2051 non-null   int64  \n",
      " 52  Bedroom AbvGr    2051 non-null   int64  \n",
      " 53  Kitchen AbvGr    2051 non-null   int64  \n",
      " 54  Kitchen Qual     2051 non-null   object \n",
      " 55  TotRms AbvGrd    2051 non-null   int64  \n",
      " 56  Functional       2051 non-null   object \n",
      " 57  Fireplaces       2051 non-null   int64  \n",
      " 58  Fireplace Qu     1051 non-null   object \n",
      " 59  Garage Type      1938 non-null   object \n",
      " 60  Garage Yr Blt    1937 non-null   float64\n",
      " 61  Garage Finish    1937 non-null   object \n",
      " 62  Garage Cars      2050 non-null   float64\n",
      " 63  Garage Area      2050 non-null   float64\n",
      " 64  Garage Qual      1937 non-null   object \n",
      " 65  Garage Cond      1937 non-null   object \n",
      " 66  Paved Drive      2051 non-null   object \n",
      " 67  Wood Deck SF     2051 non-null   int64  \n",
      " 68  Open Porch SF    2051 non-null   int64  \n",
      " 69  Enclosed Porch   2051 non-null   int64  \n",
      " 70  3Ssn Porch       2051 non-null   int64  \n",
      " 71  Screen Porch     2051 non-null   int64  \n",
      " 72  Pool Area        2051 non-null   int64  \n",
      " 73  Pool QC          9 non-null      object \n",
      " 74  Fence            400 non-null    object \n",
      " 75  Misc Feature     65 non-null     object \n",
      " 76  Misc Val         2051 non-null   int64  \n",
      " 77  Mo Sold          2051 non-null   int64  \n",
      " 78  Yr Sold          2051 non-null   int64  \n",
      " 79  Sale Type        2051 non-null   object \n",
      " 80  SalePrice        2051 non-null   int64  \n",
      "dtypes: float64(11), int64(28), object(42)\n",
      "memory usage: 1.3+ MB\n"
     ]
    }
   ],
   "source": [
    "train.info()"
   ]
  },
  {
   "cell_type": "markdown",
   "id": "b367d9c7-1825-4bb0-8273-377ef567b1dd",
   "metadata": {},
   "source": [
    "Most of the features are of the correct data type save for the following which need to be reassigned:\n",
    "* MS SubClass - The building class is actually a categorical variable and needs to be turned into an object\n",
    "    * Change this to an object type (convert to string)\n",
    "* Mo Sold - The month sold is also a categorical variable\n",
    "    * Change this to an object type (convert to string)\n",
    "    \n",
    "Other Categories: <br/>\n",
    "'Overall Qual' and 'Overall Cond' are technically categorical variables, but as they are discrete numerical variables which effectively establish a quality/condition spectrum, it could be argued that these should be left as numerical datatypes.\n",
    "* For now, they will be kept as numerical\n",
    "\n",
    "Some Variables ('Bsmt Full Bath', 'Bsmt Half Bath', 'Garage Yr Blt', 'Garage Cars') are float values when they likely shoudl be represented as integers.  The code below will investigate what float values if any are present."
   ]
  },
  {
   "cell_type": "code",
   "execution_count": 5,
   "id": "7cdc5337-9220-4734-bf41-2247ae328a3c",
   "metadata": {
    "tags": []
   },
   "outputs": [
    {
     "name": "stdout",
     "output_type": "stream",
     "text": [
      "{nan, nan}\n",
      "{nan, nan}\n",
      "{nan, nan, nan, nan, nan, nan, nan, nan, nan, nan, nan, nan, nan, nan, nan, nan, nan, nan, nan, nan, nan, nan, nan, nan, nan, nan, nan, nan, nan, nan, nan, nan, nan, nan, nan, nan, nan, nan, nan, nan, nan, nan, nan, nan, nan, nan, nan, nan, nan, nan, nan, nan, nan, nan, nan, nan, nan, nan, nan, nan, nan, nan, nan, nan, nan, nan, nan, nan, nan, nan, nan, nan, nan, nan, nan, nan, nan, nan, nan, nan, nan, nan, nan, nan, nan, nan, nan, nan, nan, nan, nan, nan, nan, nan, nan, nan, nan, nan, nan, nan, nan, nan, nan, nan, nan, nan, nan, nan, nan, nan, nan, nan, nan, nan}\n",
      "{nan}\n"
     ]
    }
   ],
   "source": [
    "# The code below creates a list of items in each catgeory (column) which will have a remainder greater than 0 when divided by 1\n",
    "#  This will indicate if the number is truly a decimal or if something else is happening.  It's then converted to a set.\n",
    "print(set([i for i in train['Bsmt Full Bath'] if i % 1 != 0]))\n",
    "print(set([i for i in train['Bsmt Half Bath'] if i % 1 != 0]))\n",
    "print(set([i for i in train['Garage Yr Blt'] if i % 1 != 0]))\n",
    "print(set([i for i in train['Garage Cars'] if i % 1 != 0]))"
   ]
  },
  {
   "cell_type": "markdown",
   "id": "ce457cea-5d16-49cb-97b4-12fa4de163ab",
   "metadata": {},
   "source": [
    "From this, NaN values (which are technically float64) are causing these columns to be float instead of integer.  Overall, these values are fine, but the null values should now be checked.\n",
    "\n",
    "Below, 'MS SubClass' and 'Mo Sold' will be converted to objects."
   ]
  },
  {
   "cell_type": "code",
   "execution_count": 6,
   "id": "e111209c-cf7e-4d06-b1c3-dd6b1c82c79d",
   "metadata": {
    "tags": []
   },
   "outputs": [
    {
     "name": "stdout",
     "output_type": "stream",
     "text": [
      "<class 'pandas.core.frame.DataFrame'>\n",
      "RangeIndex: 2051 entries, 0 to 2050\n",
      "Data columns (total 2 columns):\n",
      " #   Column       Non-Null Count  Dtype \n",
      "---  ------       --------------  ----- \n",
      " 0   MS SubClass  2051 non-null   object\n",
      " 1   Mo Sold      2051 non-null   object\n",
      "dtypes: object(2)\n",
      "memory usage: 32.2+ KB\n",
      "None\n",
      "<class 'pandas.core.frame.DataFrame'>\n",
      "RangeIndex: 878 entries, 0 to 877\n",
      "Data columns (total 2 columns):\n",
      " #   Column       Non-Null Count  Dtype \n",
      "---  ------       --------------  ----- \n",
      " 0   MS SubClass  878 non-null    object\n",
      " 1   Mo Sold      878 non-null    object\n",
      "dtypes: object(2)\n",
      "memory usage: 13.8+ KB\n",
      "None\n"
     ]
    }
   ],
   "source": [
    "# Convert MS SubClass and Mo Sold to objects, using list comprehension\n",
    "train['MS SubClass'] = [str(i) for i in train['MS SubClass']]\n",
    "train['Mo Sold'] = [str(i) for i in train['Mo Sold']]\n",
    "test['MS SubClass'] = [str(i) for i in test['MS SubClass']]\n",
    "test['Mo Sold'] = [str(i) for i in test['Mo Sold']]\n",
    "\n",
    "print(train[['MS SubClass', 'Mo Sold']].info())\n",
    "print(test[['MS SubClass', 'Mo Sold']].info())"
   ]
  },
  {
   "cell_type": "markdown",
   "id": "49753d5b-50a6-4b00-b518-b674d97de370",
   "metadata": {
    "tags": []
   },
   "source": [
    "### 2.1.2 - Check for Null Values, Drop Affected Columns"
   ]
  },
  {
   "cell_type": "code",
   "execution_count": 7,
   "id": "552976d7-a2ea-48f0-94bd-0f67c7d6330a",
   "metadata": {
    "tags": []
   },
   "outputs": [
    {
     "data": {
      "text/html": [
       "<div>\n",
       "<style scoped>\n",
       "    .dataframe tbody tr th:only-of-type {\n",
       "        vertical-align: middle;\n",
       "    }\n",
       "\n",
       "    .dataframe tbody tr th {\n",
       "        vertical-align: top;\n",
       "    }\n",
       "\n",
       "    .dataframe thead th {\n",
       "        text-align: right;\n",
       "    }\n",
       "</style>\n",
       "<table border=\"1\" class=\"dataframe\">\n",
       "  <thead>\n",
       "    <tr style=\"text-align: right;\">\n",
       "      <th></th>\n",
       "      <th>train</th>\n",
       "      <th>test</th>\n",
       "      <th>train_pcnt</th>\n",
       "      <th>test_pcnt</th>\n",
       "    </tr>\n",
       "  </thead>\n",
       "  <tbody>\n",
       "    <tr>\n",
       "      <th>Pool QC</th>\n",
       "      <td>2042</td>\n",
       "      <td>874.0</td>\n",
       "      <td>99.561190</td>\n",
       "      <td>99.544419</td>\n",
       "    </tr>\n",
       "    <tr>\n",
       "      <th>Misc Feature</th>\n",
       "      <td>1986</td>\n",
       "      <td>837.0</td>\n",
       "      <td>96.830814</td>\n",
       "      <td>95.330296</td>\n",
       "    </tr>\n",
       "    <tr>\n",
       "      <th>Alley</th>\n",
       "      <td>1911</td>\n",
       "      <td>820.0</td>\n",
       "      <td>93.174061</td>\n",
       "      <td>93.394077</td>\n",
       "    </tr>\n",
       "    <tr>\n",
       "      <th>Fence</th>\n",
       "      <td>1651</td>\n",
       "      <td>706.0</td>\n",
       "      <td>80.497318</td>\n",
       "      <td>80.410023</td>\n",
       "    </tr>\n",
       "    <tr>\n",
       "      <th>Fireplace Qu</th>\n",
       "      <td>1000</td>\n",
       "      <td>422.0</td>\n",
       "      <td>48.756704</td>\n",
       "      <td>48.063781</td>\n",
       "    </tr>\n",
       "    <tr>\n",
       "      <th>Lot Frontage</th>\n",
       "      <td>330</td>\n",
       "      <td>160.0</td>\n",
       "      <td>16.089712</td>\n",
       "      <td>18.223235</td>\n",
       "    </tr>\n",
       "    <tr>\n",
       "      <th>Garage Finish</th>\n",
       "      <td>114</td>\n",
       "      <td>45.0</td>\n",
       "      <td>5.558264</td>\n",
       "      <td>5.125285</td>\n",
       "    </tr>\n",
       "    <tr>\n",
       "      <th>Garage Qual</th>\n",
       "      <td>114</td>\n",
       "      <td>45.0</td>\n",
       "      <td>5.558264</td>\n",
       "      <td>5.125285</td>\n",
       "    </tr>\n",
       "    <tr>\n",
       "      <th>Garage Cond</th>\n",
       "      <td>114</td>\n",
       "      <td>45.0</td>\n",
       "      <td>5.558264</td>\n",
       "      <td>5.125285</td>\n",
       "    </tr>\n",
       "    <tr>\n",
       "      <th>Garage Yr Blt</th>\n",
       "      <td>114</td>\n",
       "      <td>45.0</td>\n",
       "      <td>5.558264</td>\n",
       "      <td>5.125285</td>\n",
       "    </tr>\n",
       "    <tr>\n",
       "      <th>Garage Type</th>\n",
       "      <td>113</td>\n",
       "      <td>44.0</td>\n",
       "      <td>5.509508</td>\n",
       "      <td>5.011390</td>\n",
       "    </tr>\n",
       "    <tr>\n",
       "      <th>Bsmt Exposure</th>\n",
       "      <td>58</td>\n",
       "      <td>25.0</td>\n",
       "      <td>2.827889</td>\n",
       "      <td>2.847380</td>\n",
       "    </tr>\n",
       "    <tr>\n",
       "      <th>BsmtFin Type 2</th>\n",
       "      <td>56</td>\n",
       "      <td>25.0</td>\n",
       "      <td>2.730375</td>\n",
       "      <td>2.847380</td>\n",
       "    </tr>\n",
       "    <tr>\n",
       "      <th>BsmtFin Type 1</th>\n",
       "      <td>55</td>\n",
       "      <td>25.0</td>\n",
       "      <td>2.681619</td>\n",
       "      <td>2.847380</td>\n",
       "    </tr>\n",
       "    <tr>\n",
       "      <th>Bsmt Cond</th>\n",
       "      <td>55</td>\n",
       "      <td>25.0</td>\n",
       "      <td>2.681619</td>\n",
       "      <td>2.847380</td>\n",
       "    </tr>\n",
       "    <tr>\n",
       "      <th>Bsmt Qual</th>\n",
       "      <td>55</td>\n",
       "      <td>25.0</td>\n",
       "      <td>2.681619</td>\n",
       "      <td>2.847380</td>\n",
       "    </tr>\n",
       "    <tr>\n",
       "      <th>Mas Vnr Area</th>\n",
       "      <td>22</td>\n",
       "      <td>1.0</td>\n",
       "      <td>1.072647</td>\n",
       "      <td>0.113895</td>\n",
       "    </tr>\n",
       "    <tr>\n",
       "      <th>Mas Vnr Type</th>\n",
       "      <td>22</td>\n",
       "      <td>1.0</td>\n",
       "      <td>1.072647</td>\n",
       "      <td>0.113895</td>\n",
       "    </tr>\n",
       "    <tr>\n",
       "      <th>Bsmt Full Bath</th>\n",
       "      <td>2</td>\n",
       "      <td>0.0</td>\n",
       "      <td>0.097513</td>\n",
       "      <td>0.000000</td>\n",
       "    </tr>\n",
       "    <tr>\n",
       "      <th>Bsmt Half Bath</th>\n",
       "      <td>2</td>\n",
       "      <td>0.0</td>\n",
       "      <td>0.097513</td>\n",
       "      <td>0.000000</td>\n",
       "    </tr>\n",
       "    <tr>\n",
       "      <th>Garage Cars</th>\n",
       "      <td>1</td>\n",
       "      <td>0.0</td>\n",
       "      <td>0.048757</td>\n",
       "      <td>0.000000</td>\n",
       "    </tr>\n",
       "    <tr>\n",
       "      <th>Garage Area</th>\n",
       "      <td>1</td>\n",
       "      <td>0.0</td>\n",
       "      <td>0.048757</td>\n",
       "      <td>0.000000</td>\n",
       "    </tr>\n",
       "    <tr>\n",
       "      <th>Total Bsmt SF</th>\n",
       "      <td>1</td>\n",
       "      <td>0.0</td>\n",
       "      <td>0.048757</td>\n",
       "      <td>0.000000</td>\n",
       "    </tr>\n",
       "    <tr>\n",
       "      <th>Bsmt Unf SF</th>\n",
       "      <td>1</td>\n",
       "      <td>0.0</td>\n",
       "      <td>0.048757</td>\n",
       "      <td>0.000000</td>\n",
       "    </tr>\n",
       "    <tr>\n",
       "      <th>BsmtFin SF 2</th>\n",
       "      <td>1</td>\n",
       "      <td>0.0</td>\n",
       "      <td>0.048757</td>\n",
       "      <td>0.000000</td>\n",
       "    </tr>\n",
       "    <tr>\n",
       "      <th>BsmtFin SF 1</th>\n",
       "      <td>1</td>\n",
       "      <td>0.0</td>\n",
       "      <td>0.048757</td>\n",
       "      <td>0.000000</td>\n",
       "    </tr>\n",
       "    <tr>\n",
       "      <th>Electrical</th>\n",
       "      <td>0</td>\n",
       "      <td>1.0</td>\n",
       "      <td>0.000000</td>\n",
       "      <td>0.113895</td>\n",
       "    </tr>\n",
       "    <tr>\n",
       "      <th>SalePrice</th>\n",
       "      <td>0</td>\n",
       "      <td>NaN</td>\n",
       "      <td>0.000000</td>\n",
       "      <td>NaN</td>\n",
       "    </tr>\n",
       "  </tbody>\n",
       "</table>\n",
       "</div>"
      ],
      "text/plain": [
       "                train   test  train_pcnt  test_pcnt\n",
       "Pool QC          2042  874.0   99.561190  99.544419\n",
       "Misc Feature     1986  837.0   96.830814  95.330296\n",
       "Alley            1911  820.0   93.174061  93.394077\n",
       "Fence            1651  706.0   80.497318  80.410023\n",
       "Fireplace Qu     1000  422.0   48.756704  48.063781\n",
       "Lot Frontage      330  160.0   16.089712  18.223235\n",
       "Garage Finish     114   45.0    5.558264   5.125285\n",
       "Garage Qual       114   45.0    5.558264   5.125285\n",
       "Garage Cond       114   45.0    5.558264   5.125285\n",
       "Garage Yr Blt     114   45.0    5.558264   5.125285\n",
       "Garage Type       113   44.0    5.509508   5.011390\n",
       "Bsmt Exposure      58   25.0    2.827889   2.847380\n",
       "BsmtFin Type 2     56   25.0    2.730375   2.847380\n",
       "BsmtFin Type 1     55   25.0    2.681619   2.847380\n",
       "Bsmt Cond          55   25.0    2.681619   2.847380\n",
       "Bsmt Qual          55   25.0    2.681619   2.847380\n",
       "Mas Vnr Area       22    1.0    1.072647   0.113895\n",
       "Mas Vnr Type       22    1.0    1.072647   0.113895\n",
       "Bsmt Full Bath      2    0.0    0.097513   0.000000\n",
       "Bsmt Half Bath      2    0.0    0.097513   0.000000\n",
       "Garage Cars         1    0.0    0.048757   0.000000\n",
       "Garage Area         1    0.0    0.048757   0.000000\n",
       "Total Bsmt SF       1    0.0    0.048757   0.000000\n",
       "Bsmt Unf SF         1    0.0    0.048757   0.000000\n",
       "BsmtFin SF 2        1    0.0    0.048757   0.000000\n",
       "BsmtFin SF 1        1    0.0    0.048757   0.000000\n",
       "Electrical          0    1.0    0.000000   0.113895\n",
       "SalePrice           0    NaN    0.000000        NaN"
      ]
     },
     "execution_count": 7,
     "metadata": {},
     "output_type": "execute_result"
    }
   ],
   "source": [
    "# There are about 80 columns, make a dataframe so we can filter only those columns with no null values\n",
    "\n",
    "# Create a dataframe from the summed isnull() results for the train and test data\n",
    "train_nulls = pd.DataFrame(train.isnull().sum())\n",
    "test_nulls = pd.DataFrame(test.isnull().sum())\n",
    "\n",
    "# Bring these dataframes together into a new dataframe\n",
    "nulls = pd.DataFrame()\n",
    "nulls['train'], nulls['test'] = train_nulls, test_nulls        \n",
    "\n",
    "# Make percent columns so it's easier to decipher impact on dataset\n",
    "nulls['train_pcnt'], nulls['test_pcnt'] = nulls['train'] / train.shape[0] * 100, nulls['test'] / test.shape[0] * 100\n",
    "\n",
    "# Filter the dataframe to show only the columns in each with null values\n",
    "nulls[(nulls['train'] != 0) | (nulls['test'] != 0)].sort_values('train', ascending = False)"
   ]
  },
  {
   "cell_type": "markdown",
   "id": "6a2ee23e-ea7a-4e40-b74d-35012d91f52b",
   "metadata": {},
   "source": [
    "Some catageories are substantially under-populated and should be removed.  Those with null counts exceeding 10% of the data, will be eliminated (dropped).  Smaller amounts of null values in each dataframe may be acceptable depending on which featuers are chosen for the selected model(s).  They will be dropped later if needed.\n",
    "\n",
    "The above dataframe can be filtered to yield the columns that need to be removed."
   ]
  },
  {
   "cell_type": "code",
   "execution_count": 8,
   "id": "4edeffb4-4958-41db-a2f7-e5b5cac19791",
   "metadata": {},
   "outputs": [
    {
     "data": {
      "text/plain": [
       "['Pool QC', 'Misc Feature', 'Alley', 'Fence', 'Fireplace Qu', 'Lot Frontage']"
      ]
     },
     "execution_count": 8,
     "metadata": {},
     "output_type": "execute_result"
    }
   ],
   "source": [
    "# Filter the \"nulls\" dataframe on the 10% criteria\n",
    "drop_nulls = nulls[(nulls['train_pcnt'] >= 10) | (nulls['test_pcnt'] >= 10)].sort_values('train', ascending = False)\n",
    "\n",
    "# Make a variable which is a list (index's are their own objects) of the columns matching the above criteria.\n",
    "drop_cols = list(drop_nulls.index)\n",
    "drop_cols"
   ]
  },
  {
   "cell_type": "raw",
   "id": "e05b66eb-fabb-42cc-9b19-c8e00c3fcef1",
   "metadata": {},
   "source": [
    "The above variable, 'drop_cols' can be called later when the data are cleaned."
   ]
  },
  {
   "cell_type": "code",
   "execution_count": 9,
   "id": "b2985ecb-fd07-4ef7-97ed-64a9963d525f",
   "metadata": {},
   "outputs": [],
   "source": [
    "# Drop columns from both training and test data:\n",
    "train.drop(columns = drop_cols, inplace = True);\n",
    "test.drop(columns = drop_cols, inplace = True);"
   ]
  },
  {
   "cell_type": "markdown",
   "id": "a5384efe-b6e2-441a-9e14-590c2433394c",
   "metadata": {
    "tags": []
   },
   "source": [
    "## 2.2 - First-Pass Evaluation of Feature Importance"
   ]
  },
  {
   "cell_type": "markdown",
   "id": "6e334d3d-aac4-49f5-9056-03173e5b148a",
   "metadata": {},
   "source": [
    "### 2.2.1 - Correlation with Sales Price\n",
    "The correlation method will likely provide some quick insight as to which columns have the biggest impact (from a quantitative perspective) on the home sale price.\n",
    "\n",
    "The source below establishes correlations with magnitudes greater than 0.4 to be \"moderate\" correllations.  A correlation method will be run on train data, and correlation coefficients will be provided relative to the sale price.  Only features with correaltion coefficient magnitudes greater than 0.4 (meaning > 0.4 OR < -0.4) will be identified.\n",
    "\n",
    "**NOTE: This will only work for numerical variables as the data currently stand**\n",
    "\n",
    "https://sphweb.bumc.bu.edu/otlt/MPH-Modules/PH717-QuantCore/PH717-Module9-Correlation-Regression/PH717-Module9-Correlation-Regression4.html"
   ]
  },
  {
   "cell_type": "code",
   "execution_count": 10,
   "id": "a1e141bf-4ff6-40af-8ce5-e7623523e2f7",
   "metadata": {},
   "outputs": [],
   "source": [
    "# Run correaltion method on train dataset, selecting the 'SalePrice' column\n",
    "sale_pr_corr = train.corr()['SalePrice']\n",
    "\n",
    "# Filter coefficients that are 'moderate' or stronger\n",
    "sale_pr_corr[(sale_pr_corr >= 0.4) | (sale_pr_corr <= -0.4)]\n",
    "\n",
    "# Define list of features from the index to eventually check for colinearity in a correlation matrix\n",
    "prelim_features = sale_pr_corr[(sale_pr_corr >= 0.4) | (sale_pr_corr <= -0.4)].index"
   ]
  },
  {
   "cell_type": "code",
   "execution_count": 11,
   "id": "694db933-df66-4e1c-a9c9-a63b5f9d3037",
   "metadata": {},
   "outputs": [
    {
     "data": {
      "image/png": "[encoded data removed]",
      "text/plain": [
       "<Figure size 800x400 with 2 Axes>"
      ]
     },
     "metadata": {},
     "output_type": "display_data"
    }
   ],
   "source": [
    "# Plot the correlation map between features\n",
    "\n",
    "import matplotlib.colors\n",
    "\n",
    "#this souce needs to be cited!!!!!\n",
    "cmap2 = matplotlib.colors.ListedColormap(['white','white','white','gray','gray','gray','gray','gray','gray',\n",
    "                                  'gray','gray','gray','gray','gray','gray','gray',\n",
    "                                  'gray','red','red','red', 'red'])\n",
    "\n",
    "# Show onlt bottom left of heatmap\n",
    "# From Lesson 1.07 - # This code is taken with minor modifications from https://seaborn.pydata.org/generated/seaborn.heatmap.html\n",
    "mask = np.zeros_like(train[prelim_features].corr())\n",
    "mask[np.triu_indices_from(mask)] = True\n",
    "\n",
    "\n",
    "plt.figure(figsize=(8,4))\n",
    "plt.title('Preliminary Numerical Feature Correlation Matrix')\n",
    "sns.heatmap(train[prelim_features].corr(),\n",
    "            annot = True, \n",
    "            vmin = 0.35, vmax = .65,\n",
    "            fmt='.2f', \n",
    "            cmap = cmap2, \n",
    "            mask = mask);\n",
    "\n",
    "# Source for \"fmt='.2f'\":  https://stackoverflow.com/questions/54506626/how-to-understand-seaborns-heatmap-annotation-format\n",
    "\n",
    "# This is from code I wrote for another program, but I'm not sure where I got the sources from:  \n",
    "# use the code here, and these sources to cobble something together.\n",
    "#  Source:  https://stackoverflow.com/questions/38836154/discrete-legend-in-seaborn-heatmap-plot\n",
    "#  Source:  https://matplotlib.org/stable/gallery/color/named_colors.html\n",
    "#  Source:  https://matplotlib.org/stable/api/_as_gen/matplotlib.pyplot.colorbar.html\n",
    "#  Source:  https://matplotlib.org/stable/api/figure_api.html#matplotlib.figure.Figure.colorbar\n",
    "\n",
    "\n",
    "# sns.heatmap(df.corr(),annot=True,fmt='.2f',cmap=cmap2,vmin=-1, vmax=1, annot_kws={\"size\":6}) #write your code here\n",
    "# plt.title('Correlation Coefficients Above/Below +/-0.7')\n",
    "# plt.show()\n",
    "\n",
    "\n"
   ]
  },
  {
   "cell_type": "code",
   "execution_count": 12,
   "id": "e3c65282-7380-40d7-a70b-e2529ea00b5f",
   "metadata": {},
   "outputs": [
    {
     "data": {
      "text/plain": [
       "Index(['Overall Qual', 'Year Built', 'Year Remod/Add', 'Mas Vnr Area',\n",
       "       'BsmtFin SF 1', 'Total Bsmt SF', '1st Flr SF', 'Gr Liv Area',\n",
       "       'Full Bath', 'TotRms AbvGrd', 'Fireplaces', 'Garage Yr Blt',\n",
       "       'Garage Cars', 'Garage Area', 'SalePrice'],\n",
       "      dtype='object')"
      ]
     },
     "execution_count": 12,
     "metadata": {},
     "output_type": "execute_result"
    }
   ],
   "source": [
    "prelim_features"
   ]
  },
  {
   "cell_type": "code",
   "execution_count": 13,
   "id": "33e9f66e-b7b5-48c3-8245-dfd0adc3a90d",
   "metadata": {},
   "outputs": [
    {
     "data": {
      "text/plain": [
       "{'2nd Flr SF',\n",
       " '3Ssn Porch',\n",
       " 'Bedroom AbvGr',\n",
       " 'Bsmt Full Bath',\n",
       " 'Bsmt Half Bath',\n",
       " 'Bsmt Unf SF',\n",
       " 'BsmtFin SF 2',\n",
       " 'Enclosed Porch',\n",
       " 'Half Bath',\n",
       " 'Id',\n",
       " 'Kitchen AbvGr',\n",
       " 'Lot Area',\n",
       " 'Low Qual Fin SF',\n",
       " 'Misc Val',\n",
       " 'Open Porch SF',\n",
       " 'Overall Cond',\n",
       " 'PID',\n",
       " 'Pool Area',\n",
       " 'Screen Porch',\n",
       " 'Wood Deck SF',\n",
       " 'Yr Sold'}"
      ]
     },
     "execution_count": 13,
     "metadata": {},
     "output_type": "execute_result"
    }
   ],
   "source": [
    "set(train.corr().index) - set(prelim_features)"
   ]
  },
  {
   "cell_type": "markdown",
   "id": "b2190e4a-c6a0-4b1a-8a7e-fa6d1ec1722f",
   "metadata": {},
   "source": [
    "#### 2.2.1.1 - Numerical Feature Selection\n",
    "\n",
    "Check for colinearity:  Examine correlations above 0.6 (\"strong\" correlations) above between features that are not the target.  Where features are colinear, choose the better one to use in the model and list the rationale.\n",
    "1. Year Built vs. Overall Qual:  Newer house, better quality.\n",
    "    * USE QUALITY - Quality seems to track better with SalePrice\n",
    "2. Year Built vs. Year Remod/Add:  Makes sense that these would correlate as they may be the same number since Year Remod/Add defaults ot the build date if there was nothing added or remodeled\n",
    "    * USE YEAR REMOD/ADD - Lower correlation with garage built (though still high)\n",
    "3. Year Built vs. Garage Yr Built:  High correlation would suggest that many times, the garage is built with the house\n",
    "    * DON'T USE GARAGE YR BUILT - Garage Yr Built may not be a very useful feature in this model.  Garage Cars is a better feature to use if you want to limit the number of garage features since it correlates better with sale price\n",
    "4. Year Remod/Add vs. Garage Yr Built:  Lower but still strong correlation between the remodel data and the garage build.  Would suggest that many house additions were actually garages\n",
    "    * USE YEAR REMOD/ADD - Stated previously\n",
    "5. 1st Flr SF vs. Total Basement SF:  It makes sense that the first floor and basement have approximately the same sqaure footage.  Basement square footage correlates a bit better with sale price.\n",
    "    * USE Total Basement SF:  Later, Gr Liv Area is a bette measure of home sqaure footage.  Basement is not included in this measure and will act as a unique basement feature.\n",
    "6. GR Liv Area vs. Full Bath:  It makes sense that these would correlate.  Not clear on whether one or the other should be used\n",
    "    * TBD\n",
    "7. GR Liv Area vs. TotRms AbvGrd:  Very strong correlation, preference would be to keep square footage, especially since it correlates better with sale price (0.7 vs 0.5 correlation coefficients)\n",
    "    * Use Gr Liv Area\n",
    "8. Garage Area and Garage Cars:  More cars, more area.\n",
    "    * Use Garage Area because correaltion with sale price is equivalent to that of the number of garage cars but keeps with the square footage theme above\n",
    "    \n",
    "Review the remaining features which have correlations magnitudes above 0.4 relative to the target variable, sale price.\n",
    "* BsmtFin SF 1 - DO NOT USE:  This is only for a type 1 basement, and seems redundnat to total basement square footage (conceptually if no numerically)\n",
    "* Full Bath - DO NOT USE:  This is too strongly correlated with above grade sqaure footage which is conceptually a better metric\n",
    "* Mas Vnr Area - MAYBE USE:  Masonry could be indicative of a more expensive house.  Compare against other features later\n",
    "* Fireplaces - MAYBE USE:  Fireplaces could be indicative of a more expensive house.  Compare against other features later\n",
    "\n",
    "List of numerical features to be considered:\n",
    "* Overall Quality\n",
    "* Year Remod/Add\n",
    "* Total Basement SF\n",
    "* Gr Liv Area\n",
    "* Garage Area\n",
    "* Mas Vnr Area (MAYBE)\n",
    "* Fireplaces (MAYBE)\n",
    "\n",
    "\n",
    "DO NOT USE:\n",
    "* Garage Yr Blt\n",
    "* 1st Flr SF\n",
    "* Garage Cars\n",
    "* TotRms AbvGrd\n",
    "* Year Built\n",
    "* BsmtFin SF 1\n",
    "* Full Bath"
   ]
  },
  {
   "cell_type": "markdown",
   "id": "7cd0946d-476e-4986-b478-406ea777a0c9",
   "metadata": {},
   "source": [
    "Remaining Numerical Variables:\n",
    "\n",
    "\n",
    "* 2nd Flr SF - DO NOT USE - total SF is a better metric\n",
    "* 3Ssn Porch - MAYBE\n",
    "* Bedroom AbvGr - MAYBE - could be redundant with Total SF\n",
    "* Bsmt Full Bath - MAYBE - not all basements have bathrooms\n",
    "* Bsmt Half Bath - MAYBE - not all basements have bathrooms\n",
    "* Bsmt Unf SF - DO NOT USE - Redundant with total basement SF\n",
    "* BsmtFin SF 2 - DO NOT USE - Only for a type 2 basement and redundant with total basement SF\n",
    "* Enclosed Porch - MAYBE\n",
    "* Half Bath - DO NOT USE - Same reason as full bathrooms above\n",
    "* Id - DO NOT USE - this is just an identifier for each house and is not a real feature\n",
    "* Kitchen AbvGr - MAYBE\n",
    "* Lot Area - USE THIS! - this should indicate how much land is attached to said home\n",
    "* Low Qual Fin SF - Maybe?  This could be a modifier or possibly a feature could be made from this (like a percentage of the total square feet)\n",
    "* Misc Val - MAYBE - But, likely not a good candidate of a first pass model\n",
    "* Open Porch SF - MAYBE\n",
    "* Overall Cond - MAYBE - Seems redundant with overall quality\n",
    "* PID -  DO NOT USE - this is just an identifier for each house and is not a real feature\n",
    "* Pool Area - USE THIS! - Everybody loves a pool!\n",
    "* Screen Porch - MAYBE\n",
    "* Wood Deck SF - USE THIS! - Decks should add value\n",
    "* Yr Sold - USE THIS!  Might be needed for economic conditions given the timeframe being right around the housing bubble."
   ]
  },
  {
   "cell_type": "markdown",
   "id": "ee7b1215-d04d-4947-aea0-614c1f23ef55",
   "metadata": {},
   "source": [
    "### 2.2.2 Other Numerical Features\n",
    "Want to include somehjting from each of the main home feature categories (kitchen, driveway, general, basement, garage, etc.)\n",
    "\n",
    "<font color = 'red'> TALK ABOUT CONDITION REMAINING ENCODED AS A NUMBER"
   ]
  },
  {
   "cell_type": "markdown",
   "id": "a36c17d1-a0e9-4308-a107-dcbd671362b9",
   "metadata": {
    "tags": []
   },
   "source": [
    "### 2.2.3 - Categorical Variable Selection Discussion and Encoding\n",
    "\n",
    "The remaining ___ insert number here __ features are categorical in nature due to tehhir object type.\n",
    "\n",
    "Of those, many were considered for inclusion in this model, however, as most will need to be one-hot encoded, the number of feauters will dramatically increase as some of these features have a high number of unique values.  \n",
    "\n",
    "The target is to keep the total number of featuers at or below the square root of the total number of samples.  With a total number of samples at 2051, this will have our maximum number of features at 45.\n",
    "\n",
    "Since all features cannot ___ easily ___ be one-hot encoded and correlated to the sale price, practical decisions were made on the relevance of each catgorical variable.  One thing that was considered is general category of each variable which specifically refers to which part of the 'home' the variable concerns such as the kitchen, deck, basement, garage, general home, and even some time based variables.  Part of the selection philosophy was to include variables from as many of these categories as possible in order to have a holistic representation of all aspects which could influence the home value (and therefore the sale price).  Even from this, some categories had to be excluded in favor of features which are reasonably perceived to be of higher relevance to the home value.\n",
    "\n",
    "The categories below were selected as initial model features and are broken down into which are one-hot encoded, and which are number encoded.  These will be encoded in a subsequent section.\n",
    "\n",
    "Selected features which must be one-hot encoded:\n",
    "* 'Utilities'\n",
    "* 'Neighborhood'\n",
    "* 'Bldg Type'\n",
    "* 'House Style'\n",
    "* 'Paved Drive'\n",
    "\n",
    "Features representing a spectrum of quality or condition which could be encoded as numbers with higher numbers representing higher quality:\n",
    "* 'Exter Cond'\n",
    "\n",
    "The follwoing features would have been selected, however, with all above features, the 45 feature limit will be exceeded unless these are excluded.\n",
    "* 'Heating QC'\n",
    "* 'Kitchen Qual'\n"
   ]
  },
  {
   "cell_type": "markdown",
   "id": "0e43015a-3e7d-4915-b2e7-36070bac7792",
   "metadata": {},
   "source": [
    "### 2.2.4 - Initial Data Dictionary and Feature Selection Information\n",
    "\n",
    "This table combines the selection of numerical and catgeorical variables\n",
    "\n",
    "Extended feature count represents the final feature count after encoding (one-hot or other)\n",
    "\n",
    "\n",
    "| Var_name         | dtype   | Ext. Ft. Count | Codebook / Data Dictionary:                                                            | Category | Rationale            |\n",
    "|------------------|---------|----------------|----------------------------------------------------------------------------------------|----------|----------------------|\n",
    "|  'Total Bsmt SF' | float64 | 1              | TotalBsmtSF: Total square feet of basement area                                        | Basement | High Corr.           |\n",
    "|  'Garage Area'   | float64 | 1              | GarageArea: Size of garage in square feet                                              | Garage   | High Corr.           |\n",
    "|  'Lot Area'      | int64   | 1              | LotArea: Lot size in square feet                                                       | Lot      | Practical Importance |\n",
    "|  'Overall Qual'  | int64   | 1              | OverallQual: Overall material and finish quality                                       | General  | High Corr.           |\n",
    "| 'Year Remod/Add' | int64   | 1              | YearRemodAdd: Remodel date (same as construction date if no remodeling or   additions) | Time     | Mod Corr             |\n",
    "| 'Gr Liv Area'    | int64   | 1              | GrLivArea: Above grade (ground) living area square feet                                | General  | High Corr.           |\n",
    "|  'Bedroom AbvGr' | int64   | 1              | Bedroom: Number of bedrooms above basement level                                       | Bedroom  | Practical Importance |\n",
    "|  'Wood Deck SF'  | int64   | 1              | WoodDeckSF: Wood deck area in square feet                                              | Deck     | Practical Importance |\n",
    "|'Pool Area'       | int64   | 1              | PoolArea: Pool area in square feet                                                     | Pool     | Practical Importance |\n",
    "|  'Misc Val'      | int64   | 1              | MiscVal: $Value of miscellaneous feature                                               | Other    | Direct Value Measure |\n",
    "|  'Yr Sold'       | int64   | 1              | YrSold: Year Sold                                                                      | Time     | Time Sensitivity     |\n",
    "| 'Neighborhood'   | object  | 27             | Neighborhood: Physical locations within Ames city limits                               | Location | Practical Importance |\n",
    "|  'Bldg Type'     | object  | 4              | BldgType: Type of dwelling                                                             | General  | Practical Importance |\n",
    "| 'Exter Cond'     | object  | 1              | ExterCond: Present condition of the material on the exterior                           | Exterior | Practical Importance |\n",
    "|  'Paved Drive'   | object  | 2              | PavedDrive: Paved driveway                                                             | Driveway | Practical Importance |\n",
    "\n",
    "Codebook / Data Dictionary Entries Taken Direct from the Kaggle Competition Site:  https://www.kaggle.com/competitions/dsir-320-project-2-regression-challenge/data"
   ]
  },
  {
   "cell_type": "markdown",
   "id": "c6ae82d4-e7ca-4d4b-8734-a9a56513931d",
   "metadata": {},
   "source": [
    "### 2.2.5 - Creating the Initial Model Dataframe"
   ]
  },
  {
   "cell_type": "markdown",
   "id": "0ebbd173-d9ec-4235-94b6-041123adda47",
   "metadata": {},
   "source": [
    "Prior to encoding, a dataframe with all features data must be made."
   ]
  },
  {
   "cell_type": "code",
   "execution_count": 14,
   "id": "b1b9a673-7569-4e82-991b-8f37ad7bdb58",
   "metadata": {},
   "outputs": [],
   "source": [
    "# Create a list of the desired features\n",
    "\n",
    "features_init = ['SalePrice',\n",
    "                 'Total Bsmt SF',\n",
    "                 'Garage Area',\n",
    "                 'Lot Area',\n",
    "                 'Overall Qual',\n",
    "                 'Year Remod/Add',\n",
    "                 'Gr Liv Area',\n",
    "                 'Bedroom AbvGr',\n",
    "                 'Wood Deck SF',\n",
    "                 'Pool Area',\n",
    "                 'Misc Val',\n",
    "                 'Yr Sold',\n",
    "                 'Neighborhood',\n",
    "                 'Bldg Type',\n",
    "                 'Exter Cond',\n",
    "                 'Paved Drive']"
   ]
  },
  {
   "cell_type": "code",
   "execution_count": 15,
   "id": "913d7bcf-5510-46e9-be24-7d620cd4a784",
   "metadata": {},
   "outputs": [],
   "source": [
    "init_data = train[features_init]"
   ]
  },
  {
   "cell_type": "code",
   "execution_count": 16,
   "id": "72d5b85a-7ccc-4341-a922-8667db0fc5c1",
   "metadata": {},
   "outputs": [
    {
     "data": {
      "text/html": [
       "<div>\n",
       "<style scoped>\n",
       "    .dataframe tbody tr th:only-of-type {\n",
       "        vertical-align: middle;\n",
       "    }\n",
       "\n",
       "    .dataframe tbody tr th {\n",
       "        vertical-align: top;\n",
       "    }\n",
       "\n",
       "    .dataframe thead th {\n",
       "        text-align: right;\n",
       "    }\n",
       "</style>\n",
       "<table border=\"1\" class=\"dataframe\">\n",
       "  <thead>\n",
       "    <tr style=\"text-align: right;\">\n",
       "      <th></th>\n",
       "      <th>SalePrice</th>\n",
       "      <th>Total Bsmt SF</th>\n",
       "      <th>Garage Area</th>\n",
       "      <th>Lot Area</th>\n",
       "      <th>Overall Qual</th>\n",
       "      <th>Year Remod/Add</th>\n",
       "      <th>Gr Liv Area</th>\n",
       "      <th>Bedroom AbvGr</th>\n",
       "      <th>Wood Deck SF</th>\n",
       "      <th>Pool Area</th>\n",
       "      <th>Misc Val</th>\n",
       "      <th>Yr Sold</th>\n",
       "      <th>Neighborhood</th>\n",
       "      <th>Bldg Type</th>\n",
       "      <th>Exter Cond</th>\n",
       "      <th>Paved Drive</th>\n",
       "    </tr>\n",
       "  </thead>\n",
       "  <tbody>\n",
       "    <tr>\n",
       "      <th>0</th>\n",
       "      <td>130500</td>\n",
       "      <td>725.0</td>\n",
       "      <td>475.0</td>\n",
       "      <td>13517</td>\n",
       "      <td>6</td>\n",
       "      <td>2005</td>\n",
       "      <td>1479</td>\n",
       "      <td>3</td>\n",
       "      <td>0</td>\n",
       "      <td>0</td>\n",
       "      <td>0</td>\n",
       "      <td>2010</td>\n",
       "      <td>Sawyer</td>\n",
       "      <td>1Fam</td>\n",
       "      <td>TA</td>\n",
       "      <td>Y</td>\n",
       "    </tr>\n",
       "    <tr>\n",
       "      <th>1</th>\n",
       "      <td>220000</td>\n",
       "      <td>913.0</td>\n",
       "      <td>559.0</td>\n",
       "      <td>11492</td>\n",
       "      <td>7</td>\n",
       "      <td>1997</td>\n",
       "      <td>2122</td>\n",
       "      <td>4</td>\n",
       "      <td>0</td>\n",
       "      <td>0</td>\n",
       "      <td>0</td>\n",
       "      <td>2009</td>\n",
       "      <td>SawyerW</td>\n",
       "      <td>1Fam</td>\n",
       "      <td>TA</td>\n",
       "      <td>Y</td>\n",
       "    </tr>\n",
       "    <tr>\n",
       "      <th>2</th>\n",
       "      <td>109000</td>\n",
       "      <td>1057.0</td>\n",
       "      <td>246.0</td>\n",
       "      <td>7922</td>\n",
       "      <td>5</td>\n",
       "      <td>2007</td>\n",
       "      <td>1057</td>\n",
       "      <td>3</td>\n",
       "      <td>0</td>\n",
       "      <td>0</td>\n",
       "      <td>0</td>\n",
       "      <td>2010</td>\n",
       "      <td>NAmes</td>\n",
       "      <td>1Fam</td>\n",
       "      <td>Gd</td>\n",
       "      <td>Y</td>\n",
       "    </tr>\n",
       "    <tr>\n",
       "      <th>3</th>\n",
       "      <td>174000</td>\n",
       "      <td>384.0</td>\n",
       "      <td>400.0</td>\n",
       "      <td>9802</td>\n",
       "      <td>5</td>\n",
       "      <td>2007</td>\n",
       "      <td>1444</td>\n",
       "      <td>3</td>\n",
       "      <td>100</td>\n",
       "      <td>0</td>\n",
       "      <td>0</td>\n",
       "      <td>2010</td>\n",
       "      <td>Timber</td>\n",
       "      <td>1Fam</td>\n",
       "      <td>TA</td>\n",
       "      <td>Y</td>\n",
       "    </tr>\n",
       "    <tr>\n",
       "      <th>4</th>\n",
       "      <td>138500</td>\n",
       "      <td>676.0</td>\n",
       "      <td>484.0</td>\n",
       "      <td>14235</td>\n",
       "      <td>6</td>\n",
       "      <td>1993</td>\n",
       "      <td>1445</td>\n",
       "      <td>3</td>\n",
       "      <td>0</td>\n",
       "      <td>0</td>\n",
       "      <td>0</td>\n",
       "      <td>2010</td>\n",
       "      <td>SawyerW</td>\n",
       "      <td>1Fam</td>\n",
       "      <td>TA</td>\n",
       "      <td>N</td>\n",
       "    </tr>\n",
       "  </tbody>\n",
       "</table>\n",
       "</div>"
      ],
      "text/plain": [
       "   SalePrice  Total Bsmt SF  Garage Area  Lot Area  Overall Qual  \\\n",
       "0     130500          725.0        475.0     13517             6   \n",
       "1     220000          913.0        559.0     11492             7   \n",
       "2     109000         1057.0        246.0      7922             5   \n",
       "3     174000          384.0        400.0      9802             5   \n",
       "4     138500          676.0        484.0     14235             6   \n",
       "\n",
       "   Year Remod/Add  Gr Liv Area  Bedroom AbvGr  Wood Deck SF  Pool Area  \\\n",
       "0            2005         1479              3             0          0   \n",
       "1            1997         2122              4             0          0   \n",
       "2            2007         1057              3             0          0   \n",
       "3            2007         1444              3           100          0   \n",
       "4            1993         1445              3             0          0   \n",
       "\n",
       "   Misc Val  Yr Sold Neighborhood Bldg Type Exter Cond Paved Drive  \n",
       "0         0     2010       Sawyer      1Fam         TA           Y  \n",
       "1         0     2009      SawyerW      1Fam         TA           Y  \n",
       "2         0     2010        NAmes      1Fam         Gd           Y  \n",
       "3         0     2010       Timber      1Fam         TA           Y  \n",
       "4         0     2010      SawyerW      1Fam         TA           N  "
      ]
     },
     "execution_count": 16,
     "metadata": {},
     "output_type": "execute_result"
    }
   ],
   "source": [
    "init_data.head()"
   ]
  },
  {
   "cell_type": "markdown",
   "id": "cb854e26-f591-405b-9ff6-cd9b9ce8e17b",
   "metadata": {},
   "source": [
    "#### 2.2.5.1 - One Hot Encoding Variables"
   ]
  },
  {
   "cell_type": "code",
   "execution_count": 17,
   "id": "a14dbf6e-7b05-42d2-bc91-424c4dbaef18",
   "metadata": {},
   "outputs": [
    {
     "name": "stdout",
     "output_type": "stream",
     "text": [
      "['Sawyer' 'SawyerW' 'NAmes' 'Timber' 'Edwards' 'OldTown' 'BrDale'\n",
      " 'CollgCr' 'Somerst' 'Mitchel' 'StoneBr' 'NridgHt' 'Gilbert' 'Crawfor'\n",
      " 'IDOTRR' 'NWAmes' 'Veenker' 'MeadowV' 'SWISU' 'NoRidge' 'ClearCr'\n",
      " 'Blmngtn' 'BrkSide' 'NPkVill' 'Blueste' 'GrnHill' 'Greens' 'Landmrk']\n",
      "['1Fam' 'TwnhsE' 'Twnhs' '2fmCon' 'Duplex']\n",
      "['Y' 'N' 'P']\n"
     ]
    }
   ],
   "source": [
    "# Print the unique values for each category and make sure that the data look correct\n",
    "for i in ['Neighborhood', 'Bldg Type', 'Paved Drive']:\n",
    "    print(init_data[i].unique())"
   ]
  },
  {
   "cell_type": "code",
   "execution_count": 18,
   "id": "d75a04a7-b6e8-4d7e-afeb-2008d32a6c50",
   "metadata": {},
   "outputs": [],
   "source": [
    "# One hot encode categorical variables which are not going to be encoded as numbers.\n",
    "# Note, after some checking, drop_first appears to drop the desired columns for Bloomington, Single Family Homes, and Unpaved Driveways\n",
    "init_data = pd.get_dummies(columns=['Neighborhood', 'Bldg Type', 'Paved Drive'],\n",
    "               data = init_data,\n",
    "              drop_first= True\n",
    "              )"
   ]
  },
  {
   "cell_type": "code",
   "execution_count": 19,
   "id": "bbff9f82-45d7-4d13-98e8-8f1bb1397af3",
   "metadata": {},
   "outputs": [
    {
     "name": "stdout",
     "output_type": "stream",
     "text": [
      "<class 'pandas.core.frame.DataFrame'>\n",
      "RangeIndex: 2051 entries, 0 to 2050\n",
      "Data columns (total 46 columns):\n",
      " #   Column                Non-Null Count  Dtype  \n",
      "---  ------                --------------  -----  \n",
      " 0   SalePrice             2051 non-null   int64  \n",
      " 1   Total Bsmt SF         2050 non-null   float64\n",
      " 2   Garage Area           2050 non-null   float64\n",
      " 3   Lot Area              2051 non-null   int64  \n",
      " 4   Overall Qual          2051 non-null   int64  \n",
      " 5   Year Remod/Add        2051 non-null   int64  \n",
      " 6   Gr Liv Area           2051 non-null   int64  \n",
      " 7   Bedroom AbvGr         2051 non-null   int64  \n",
      " 8   Wood Deck SF          2051 non-null   int64  \n",
      " 9   Pool Area             2051 non-null   int64  \n",
      " 10  Misc Val              2051 non-null   int64  \n",
      " 11  Yr Sold               2051 non-null   int64  \n",
      " 12  Exter Cond            2051 non-null   object \n",
      " 13  Neighborhood_Blueste  2051 non-null   uint8  \n",
      " 14  Neighborhood_BrDale   2051 non-null   uint8  \n",
      " 15  Neighborhood_BrkSide  2051 non-null   uint8  \n",
      " 16  Neighborhood_ClearCr  2051 non-null   uint8  \n",
      " 17  Neighborhood_CollgCr  2051 non-null   uint8  \n",
      " 18  Neighborhood_Crawfor  2051 non-null   uint8  \n",
      " 19  Neighborhood_Edwards  2051 non-null   uint8  \n",
      " 20  Neighborhood_Gilbert  2051 non-null   uint8  \n",
      " 21  Neighborhood_Greens   2051 non-null   uint8  \n",
      " 22  Neighborhood_GrnHill  2051 non-null   uint8  \n",
      " 23  Neighborhood_IDOTRR   2051 non-null   uint8  \n",
      " 24  Neighborhood_Landmrk  2051 non-null   uint8  \n",
      " 25  Neighborhood_MeadowV  2051 non-null   uint8  \n",
      " 26  Neighborhood_Mitchel  2051 non-null   uint8  \n",
      " 27  Neighborhood_NAmes    2051 non-null   uint8  \n",
      " 28  Neighborhood_NPkVill  2051 non-null   uint8  \n",
      " 29  Neighborhood_NWAmes   2051 non-null   uint8  \n",
      " 30  Neighborhood_NoRidge  2051 non-null   uint8  \n",
      " 31  Neighborhood_NridgHt  2051 non-null   uint8  \n",
      " 32  Neighborhood_OldTown  2051 non-null   uint8  \n",
      " 33  Neighborhood_SWISU    2051 non-null   uint8  \n",
      " 34  Neighborhood_Sawyer   2051 non-null   uint8  \n",
      " 35  Neighborhood_SawyerW  2051 non-null   uint8  \n",
      " 36  Neighborhood_Somerst  2051 non-null   uint8  \n",
      " 37  Neighborhood_StoneBr  2051 non-null   uint8  \n",
      " 38  Neighborhood_Timber   2051 non-null   uint8  \n",
      " 39  Neighborhood_Veenker  2051 non-null   uint8  \n",
      " 40  Bldg Type_2fmCon      2051 non-null   uint8  \n",
      " 41  Bldg Type_Duplex      2051 non-null   uint8  \n",
      " 42  Bldg Type_Twnhs       2051 non-null   uint8  \n",
      " 43  Bldg Type_TwnhsE      2051 non-null   uint8  \n",
      " 44  Paved Drive_P         2051 non-null   uint8  \n",
      " 45  Paved Drive_Y         2051 non-null   uint8  \n",
      "dtypes: float64(2), int64(10), object(1), uint8(33)\n",
      "memory usage: 274.5+ KB\n"
     ]
    }
   ],
   "source": [
    "init_data.info()"
   ]
  },
  {
   "cell_type": "markdown",
   "id": "9fe749e4-7c98-47e3-bd91-10f75199bdd9",
   "metadata": {},
   "source": [
    "#### 2.2.5.2 - Number Encoding Variables"
   ]
  },
  {
   "cell_type": "code",
   "execution_count": 20,
   "id": "aa586478-6fd6-40e8-acd3-18f07246a5f4",
   "metadata": {},
   "outputs": [
    {
     "data": {
      "text/plain": [
       "array(['TA', 'Gd', 'Fa', 'Ex', 'Po'], dtype=object)"
      ]
     },
     "execution_count": 20,
     "metadata": {},
     "output_type": "execute_result"
    }
   ],
   "source": [
    "# Check the exact names of values for exterior condition:\n",
    "init_data['Exter Cond'].unique()"
   ]
  },
  {
   "cell_type": "code",
   "execution_count": 21,
   "id": "d793ae15-58a0-4854-8e22-fd1576d117a8",
   "metadata": {},
   "outputs": [],
   "source": [
    "# Encode values 1 through 5 based on the condition into the 'Exter Cond' column, 5 being Excellent and 1 being Poor\n",
    "init_data['Exter Cond'] = [5 if i == 'Ex' else 4 if i == 'Gd' else 3 if i == 'TA' else 2 if i == 'Fa' else 1 for i in init_data['Exter Cond']]"
   ]
  },
  {
   "cell_type": "code",
   "execution_count": 22,
   "id": "628f3ba0-77bd-4681-9648-8f4182659c9e",
   "metadata": {},
   "outputs": [
    {
     "name": "stdout",
     "output_type": "stream",
     "text": [
      "<class 'pandas.core.frame.DataFrame'>\n",
      "RangeIndex: 2051 entries, 0 to 2050\n",
      "Data columns (total 46 columns):\n",
      " #   Column                Non-Null Count  Dtype  \n",
      "---  ------                --------------  -----  \n",
      " 0   SalePrice             2051 non-null   int64  \n",
      " 1   Total Bsmt SF         2050 non-null   float64\n",
      " 2   Garage Area           2050 non-null   float64\n",
      " 3   Lot Area              2051 non-null   int64  \n",
      " 4   Overall Qual          2051 non-null   int64  \n",
      " 5   Year Remod/Add        2051 non-null   int64  \n",
      " 6   Gr Liv Area           2051 non-null   int64  \n",
      " 7   Bedroom AbvGr         2051 non-null   int64  \n",
      " 8   Wood Deck SF          2051 non-null   int64  \n",
      " 9   Pool Area             2051 non-null   int64  \n",
      " 10  Misc Val              2051 non-null   int64  \n",
      " 11  Yr Sold               2051 non-null   int64  \n",
      " 12  Exter Cond            2051 non-null   int64  \n",
      " 13  Neighborhood_Blueste  2051 non-null   uint8  \n",
      " 14  Neighborhood_BrDale   2051 non-null   uint8  \n",
      " 15  Neighborhood_BrkSide  2051 non-null   uint8  \n",
      " 16  Neighborhood_ClearCr  2051 non-null   uint8  \n",
      " 17  Neighborhood_CollgCr  2051 non-null   uint8  \n",
      " 18  Neighborhood_Crawfor  2051 non-null   uint8  \n",
      " 19  Neighborhood_Edwards  2051 non-null   uint8  \n",
      " 20  Neighborhood_Gilbert  2051 non-null   uint8  \n",
      " 21  Neighborhood_Greens   2051 non-null   uint8  \n",
      " 22  Neighborhood_GrnHill  2051 non-null   uint8  \n",
      " 23  Neighborhood_IDOTRR   2051 non-null   uint8  \n",
      " 24  Neighborhood_Landmrk  2051 non-null   uint8  \n",
      " 25  Neighborhood_MeadowV  2051 non-null   uint8  \n",
      " 26  Neighborhood_Mitchel  2051 non-null   uint8  \n",
      " 27  Neighborhood_NAmes    2051 non-null   uint8  \n",
      " 28  Neighborhood_NPkVill  2051 non-null   uint8  \n",
      " 29  Neighborhood_NWAmes   2051 non-null   uint8  \n",
      " 30  Neighborhood_NoRidge  2051 non-null   uint8  \n",
      " 31  Neighborhood_NridgHt  2051 non-null   uint8  \n",
      " 32  Neighborhood_OldTown  2051 non-null   uint8  \n",
      " 33  Neighborhood_SWISU    2051 non-null   uint8  \n",
      " 34  Neighborhood_Sawyer   2051 non-null   uint8  \n",
      " 35  Neighborhood_SawyerW  2051 non-null   uint8  \n",
      " 36  Neighborhood_Somerst  2051 non-null   uint8  \n",
      " 37  Neighborhood_StoneBr  2051 non-null   uint8  \n",
      " 38  Neighborhood_Timber   2051 non-null   uint8  \n",
      " 39  Neighborhood_Veenker  2051 non-null   uint8  \n",
      " 40  Bldg Type_2fmCon      2051 non-null   uint8  \n",
      " 41  Bldg Type_Duplex      2051 non-null   uint8  \n",
      " 42  Bldg Type_Twnhs       2051 non-null   uint8  \n",
      " 43  Bldg Type_TwnhsE      2051 non-null   uint8  \n",
      " 44  Paved Drive_P         2051 non-null   uint8  \n",
      " 45  Paved Drive_Y         2051 non-null   uint8  \n",
      "dtypes: float64(2), int64(11), uint8(33)\n",
      "memory usage: 274.5 KB\n"
     ]
    }
   ],
   "source": [
    "# Check that all columns are a number of some sort:\n",
    "init_data.info()"
   ]
  },
  {
   "cell_type": "code",
   "execution_count": 23,
   "id": "96e553e0-feaf-4854-8724-ddb5abe01433",
   "metadata": {},
   "outputs": [
    {
     "data": {
      "text/html": [
       "<div>\n",
       "<style scoped>\n",
       "    .dataframe tbody tr th:only-of-type {\n",
       "        vertical-align: middle;\n",
       "    }\n",
       "\n",
       "    .dataframe tbody tr th {\n",
       "        vertical-align: top;\n",
       "    }\n",
       "\n",
       "    .dataframe thead th {\n",
       "        text-align: right;\n",
       "    }\n",
       "</style>\n",
       "<table border=\"1\" class=\"dataframe\">\n",
       "  <thead>\n",
       "    <tr style=\"text-align: right;\">\n",
       "      <th></th>\n",
       "      <th>SalePrice</th>\n",
       "      <th>Total Bsmt SF</th>\n",
       "      <th>Garage Area</th>\n",
       "      <th>Lot Area</th>\n",
       "      <th>Overall Qual</th>\n",
       "      <th>Year Remod/Add</th>\n",
       "      <th>Gr Liv Area</th>\n",
       "      <th>Bedroom AbvGr</th>\n",
       "      <th>Wood Deck SF</th>\n",
       "      <th>Pool Area</th>\n",
       "      <th>...</th>\n",
       "      <th>Neighborhood_Somerst</th>\n",
       "      <th>Neighborhood_StoneBr</th>\n",
       "      <th>Neighborhood_Timber</th>\n",
       "      <th>Neighborhood_Veenker</th>\n",
       "      <th>Bldg Type_2fmCon</th>\n",
       "      <th>Bldg Type_Duplex</th>\n",
       "      <th>Bldg Type_Twnhs</th>\n",
       "      <th>Bldg Type_TwnhsE</th>\n",
       "      <th>Paved Drive_P</th>\n",
       "      <th>Paved Drive_Y</th>\n",
       "    </tr>\n",
       "  </thead>\n",
       "  <tbody>\n",
       "    <tr>\n",
       "      <th>1327</th>\n",
       "      <td>79000</td>\n",
       "      <td>NaN</td>\n",
       "      <td>280.0</td>\n",
       "      <td>5940</td>\n",
       "      <td>4</td>\n",
       "      <td>1950</td>\n",
       "      <td>896</td>\n",
       "      <td>2</td>\n",
       "      <td>0</td>\n",
       "      <td>0</td>\n",
       "      <td>...</td>\n",
       "      <td>0</td>\n",
       "      <td>0</td>\n",
       "      <td>0</td>\n",
       "      <td>0</td>\n",
       "      <td>0</td>\n",
       "      <td>0</td>\n",
       "      <td>0</td>\n",
       "      <td>0</td>\n",
       "      <td>0</td>\n",
       "      <td>1</td>\n",
       "    </tr>\n",
       "    <tr>\n",
       "      <th>1712</th>\n",
       "      <td>150909</td>\n",
       "      <td>859.0</td>\n",
       "      <td>NaN</td>\n",
       "      <td>9060</td>\n",
       "      <td>5</td>\n",
       "      <td>1999</td>\n",
       "      <td>1828</td>\n",
       "      <td>3</td>\n",
       "      <td>174</td>\n",
       "      <td>0</td>\n",
       "      <td>...</td>\n",
       "      <td>0</td>\n",
       "      <td>0</td>\n",
       "      <td>0</td>\n",
       "      <td>0</td>\n",
       "      <td>0</td>\n",
       "      <td>0</td>\n",
       "      <td>0</td>\n",
       "      <td>0</td>\n",
       "      <td>0</td>\n",
       "      <td>1</td>\n",
       "    </tr>\n",
       "  </tbody>\n",
       "</table>\n",
       "<p>2 rows × 46 columns</p>\n",
       "</div>"
      ],
      "text/plain": [
       "      SalePrice  Total Bsmt SF  Garage Area  Lot Area  Overall Qual  \\\n",
       "1327      79000            NaN        280.0      5940             4   \n",
       "1712     150909          859.0          NaN      9060             5   \n",
       "\n",
       "      Year Remod/Add  Gr Liv Area  Bedroom AbvGr  Wood Deck SF  Pool Area  \\\n",
       "1327            1950          896              2             0          0   \n",
       "1712            1999         1828              3           174          0   \n",
       "\n",
       "      ...  Neighborhood_Somerst  Neighborhood_StoneBr  Neighborhood_Timber  \\\n",
       "1327  ...                     0                     0                    0   \n",
       "1712  ...                     0                     0                    0   \n",
       "\n",
       "      Neighborhood_Veenker  Bldg Type_2fmCon  Bldg Type_Duplex  \\\n",
       "1327                     0                 0                 0   \n",
       "1712                     0                 0                 0   \n",
       "\n",
       "      Bldg Type_Twnhs  Bldg Type_TwnhsE  Paved Drive_P  Paved Drive_Y  \n",
       "1327                0                 0              0              1  \n",
       "1712                0                 0              0              1  \n",
       "\n",
       "[2 rows x 46 columns]"
      ]
     },
     "execution_count": 23,
     "metadata": {},
     "output_type": "execute_result"
    }
   ],
   "source": [
    "# There are two null values that should be investigated:\n",
    "init_data[(pd.isna(init_data['Total Bsmt SF']) == True) | (pd.isna(init_data['Garage Area']) == True) ]"
   ]
  },
  {
   "cell_type": "code",
   "execution_count": 24,
   "id": "dce92462-f8cb-4e86-b310-c6404b1957bd",
   "metadata": {},
   "outputs": [],
   "source": [
    "# It may be safe to assume that if no value is collected for basement or garage square feet, then neither exist and would be 0.\n",
    "\n",
    "# Fill the NaN valuse with 0\n",
    "init_data.fillna(0, inplace=True)"
   ]
  },
  {
   "cell_type": "markdown",
   "id": "5c45f1e2-4015-49de-b475-ca1580cda29b",
   "metadata": {},
   "source": [
    "#### 2.2.5.3 - Check for Colinearity in Initial Dataframe with Encoded Columns"
   ]
  },
  {
   "cell_type": "code",
   "execution_count": 53,
   "id": "190be786-71f6-437d-88be-839edfd23618",
   "metadata": {},
   "outputs": [
    {
     "data": {
      "image/png": "[encoded data removed]",
      "text/plain": [
       "<Figure size 1500x1000 with 2 Axes>"
      ]
     },
     "metadata": {},
     "output_type": "display_data"
    }
   ],
   "source": [
    "# Plot the correlation map between features\n",
    "\n",
    "import matplotlib.colors\n",
    "\n",
    "#this souce needs to be cited!!!!!\n",
    "cmap2 = matplotlib.colors.ListedColormap(['white','white','white','white','gray','gray','gray','gray','gray','gray',\n",
    "                                  'gray','gray','gray','gray','gray','gray','gray',\n",
    "                                  'gray','red','red','red', 'red'])\n",
    "\n",
    "# Show onlt bottom left of heatmap\n",
    "# From Lesson 1.07 - # This code is taken with minor modifications from https://seaborn.pydata.org/generated/seaborn.heatmap.html\n",
    "#  'annot_kws={\"size\":8}' from:  https://stackoverflow.com/questions/33104322/auto-adjust-font-size-in-seaborn-heatmap\n",
    "mask = np.zeros_like(init_data.corr())\n",
    "mask[np.triu_indices_from(mask)] = True\n",
    "\n",
    "\n",
    "plt.figure(figsize=(15, 10))\n",
    "plt.title('Initial Data Correlation Matrix')\n",
    "plt.xticks(size = 6)\n",
    "plt.yticks(size = 6)\n",
    "sns.heatmap(init_data.corr(),\n",
    "            annot = True, \n",
    "            vmin = -0.9, vmax = .9,\n",
    "            annot_kws={\"size\":6},\n",
    "            fmt='.1f', \n",
    "            cmap = cmap2, \n",
    "            mask = mask);"
   ]
  },
  {
   "cell_type": "markdown",
   "id": "afa825bd-b84a-4e06-86ea-caaf11574a80",
   "metadata": {},
   "source": [
    "Above, no columns correlate with each other (save for the target) with a correlation coefficient above 0.6.  Thus, save for a few moderate correrlations, there is minimal colinearity."
   ]
  },
  {
   "cell_type": "markdown",
   "id": "ded3827b-6a51-4b5c-99e3-6ca1fad165f9",
   "metadata": {},
   "source": [
    "# 3 - Initial Modeling"
   ]
  },
  {
   "cell_type": "code",
   "execution_count": 26,
   "id": "f47352d4-2a14-4f7b-a0e1-554ef8c4658e",
   "metadata": {},
   "outputs": [],
   "source": [
    "# Create train and test datasets!\n",
    "\n",
    "# First, create X and y from the data above\n",
    "X_init = init_data.drop(columns = 'SalePrice')\n",
    "y_init = init_data['SalePrice']\n",
    "\n",
    "# Run train test split:\n",
    "X_init_train, X_init_test, y_init_train, y_init_test = train_test_split(X_init, y_init, random_state=0, test_size=0.3)"
   ]
  },
  {
   "cell_type": "code",
   "execution_count": 27,
   "id": "e0ce2342-4eb4-48b7-b376-c025114eeb22",
   "metadata": {},
   "outputs": [
    {
     "name": "stdout",
     "output_type": "stream",
     "text": [
      "<class 'pandas.core.frame.DataFrame'>\n",
      "RangeIndex: 2051 entries, 0 to 2050\n",
      "Data columns (total 46 columns):\n",
      " #   Column                Non-Null Count  Dtype  \n",
      "---  ------                --------------  -----  \n",
      " 0   SalePrice             2051 non-null   int64  \n",
      " 1   Total Bsmt SF         2051 non-null   float64\n",
      " 2   Garage Area           2051 non-null   float64\n",
      " 3   Lot Area              2051 non-null   int64  \n",
      " 4   Overall Qual          2051 non-null   int64  \n",
      " 5   Year Remod/Add        2051 non-null   int64  \n",
      " 6   Gr Liv Area           2051 non-null   int64  \n",
      " 7   Bedroom AbvGr         2051 non-null   int64  \n",
      " 8   Wood Deck SF          2051 non-null   int64  \n",
      " 9   Pool Area             2051 non-null   int64  \n",
      " 10  Misc Val              2051 non-null   int64  \n",
      " 11  Yr Sold               2051 non-null   int64  \n",
      " 12  Exter Cond            2051 non-null   int64  \n",
      " 13  Neighborhood_Blueste  2051 non-null   uint8  \n",
      " 14  Neighborhood_BrDale   2051 non-null   uint8  \n",
      " 15  Neighborhood_BrkSide  2051 non-null   uint8  \n",
      " 16  Neighborhood_ClearCr  2051 non-null   uint8  \n",
      " 17  Neighborhood_CollgCr  2051 non-null   uint8  \n",
      " 18  Neighborhood_Crawfor  2051 non-null   uint8  \n",
      " 19  Neighborhood_Edwards  2051 non-null   uint8  \n",
      " 20  Neighborhood_Gilbert  2051 non-null   uint8  \n",
      " 21  Neighborhood_Greens   2051 non-null   uint8  \n",
      " 22  Neighborhood_GrnHill  2051 non-null   uint8  \n",
      " 23  Neighborhood_IDOTRR   2051 non-null   uint8  \n",
      " 24  Neighborhood_Landmrk  2051 non-null   uint8  \n",
      " 25  Neighborhood_MeadowV  2051 non-null   uint8  \n",
      " 26  Neighborhood_Mitchel  2051 non-null   uint8  \n",
      " 27  Neighborhood_NAmes    2051 non-null   uint8  \n",
      " 28  Neighborhood_NPkVill  2051 non-null   uint8  \n",
      " 29  Neighborhood_NWAmes   2051 non-null   uint8  \n",
      " 30  Neighborhood_NoRidge  2051 non-null   uint8  \n",
      " 31  Neighborhood_NridgHt  2051 non-null   uint8  \n",
      " 32  Neighborhood_OldTown  2051 non-null   uint8  \n",
      " 33  Neighborhood_SWISU    2051 non-null   uint8  \n",
      " 34  Neighborhood_Sawyer   2051 non-null   uint8  \n",
      " 35  Neighborhood_SawyerW  2051 non-null   uint8  \n",
      " 36  Neighborhood_Somerst  2051 non-null   uint8  \n",
      " 37  Neighborhood_StoneBr  2051 non-null   uint8  \n",
      " 38  Neighborhood_Timber   2051 non-null   uint8  \n",
      " 39  Neighborhood_Veenker  2051 non-null   uint8  \n",
      " 40  Bldg Type_2fmCon      2051 non-null   uint8  \n",
      " 41  Bldg Type_Duplex      2051 non-null   uint8  \n",
      " 42  Bldg Type_Twnhs       2051 non-null   uint8  \n",
      " 43  Bldg Type_TwnhsE      2051 non-null   uint8  \n",
      " 44  Paved Drive_P         2051 non-null   uint8  \n",
      " 45  Paved Drive_Y         2051 non-null   uint8  \n",
      "dtypes: float64(2), int64(11), uint8(33)\n",
      "memory usage: 274.5 KB\n"
     ]
    }
   ],
   "source": [
    "init_data.info()"
   ]
  },
  {
   "cell_type": "code",
   "execution_count": 28,
   "id": "887a8cc7-3297-47b0-ac6f-bf3a2d2d77b9",
   "metadata": {},
   "outputs": [
    {
     "data": {
      "text/plain": [
       "LinearRegression()"
      ]
     },
     "execution_count": 28,
     "metadata": {},
     "output_type": "execute_result"
    }
   ],
   "source": [
    "# Run initial LR model\n",
    "lr_init = LinearRegression()\n",
    "\n",
    "lr_init.fit(X_init_train, y_init_train)\n",
    "\n",
    "# X_init_train.info(), X_init_test.info(), y_init_train.info(), y_init_test.info()"
   ]
  },
  {
   "cell_type": "code",
   "execution_count": 29,
   "id": "2b2395c1-1445-458f-9dad-58c7a3ecfe67",
   "metadata": {},
   "outputs": [
    {
     "data": {
      "text/plain": [
       "(0.8621075729746097, 0.7975617855484634)"
      ]
     },
     "execution_count": 29,
     "metadata": {},
     "output_type": "execute_result"
    }
   ],
   "source": [
    "lr_init.score(X_init_train, y_init_train), lr_init.score(X_init_test, y_init_test)"
   ]
  },
  {
   "cell_type": "code",
   "execution_count": 30,
   "id": "8a174394-f6fb-4e3b-b06e-468b128e43af",
   "metadata": {},
   "outputs": [
    {
     "data": {
      "text/plain": [
       "array([0.83661378, 0.85716032, 0.79836608, 0.85400689, 0.76991106])"
      ]
     },
     "execution_count": 30,
     "metadata": {},
     "output_type": "execute_result"
    }
   ],
   "source": [
    "cross_val_score(lr_init, X_init_train, y_init_train)"
   ]
  },
  {
   "cell_type": "code",
   "execution_count": 31,
   "id": "5973bf4f-84e0-4c45-862f-89ccdbdc6cd7",
   "metadata": {},
   "outputs": [],
   "source": [
    "preds_train = lr_init.predict(X_init_train)\n",
    "preds_test = lr_init.predict(X_init_test)"
   ]
  },
  {
   "cell_type": "code",
   "execution_count": 64,
   "id": "eb6c1bae-6e95-4de1-a8d9-bf32e6a1ef6c",
   "metadata": {},
   "outputs": [
    {
     "data": {
      "text/plain": [
       "(19786.240563288073, 20797.431808668072)"
      ]
     },
     "execution_count": 64,
     "metadata": {},
     "output_type": "execute_result"
    }
   ],
   "source": [
    "mean_absolute_error(y_init_train, preds_train), mean_absolute_error(y_init_test, preds_test)"
   ]
  },
  {
   "cell_type": "code",
   "execution_count": 33,
   "id": "7afb8ec4-eed0-4724-a1e3-83b9a884a92c",
   "metadata": {},
   "outputs": [
    {
     "data": {
      "text/plain": [
       "(29491.756965162534, 35451.87017486849)"
      ]
     },
     "execution_count": 33,
     "metadata": {},
     "output_type": "execute_result"
    }
   ],
   "source": [
    "mean_squared_error(y_init_train, preds_train, squared=False), mean_squared_error(y_init_test, preds_test, squared=False)"
   ]
  },
  {
   "cell_type": "code",
   "execution_count": 34,
   "id": "78a8e446-28a2-4caf-b3eb-977c39ef0c94",
   "metadata": {},
   "outputs": [],
   "source": [
    "resid_init_train, resid_init_test = (y_init_train - preds_train), (y_init_test - preds_test)"
   ]
  },
  {
   "cell_type": "code",
   "execution_count": 35,
   "id": "6a3c9765-ad1e-4545-925e-d7aab447de13",
   "metadata": {},
   "outputs": [
    {
     "data": {
      "text/plain": [
       "count    1.435000e+03\n",
       "mean     7.370266e-11\n",
       "std      2.950204e+04\n",
       "min     -2.343643e+05\n",
       "25%     -1.408952e+04\n",
       "50%     -6.514829e+02\n",
       "75%      1.312520e+04\n",
       "max      2.166684e+05\n",
       "Name: SalePrice, dtype: float64"
      ]
     },
     "execution_count": 35,
     "metadata": {},
     "output_type": "execute_result"
    }
   ],
   "source": [
    "resid_init_train.describe()"
   ]
  },
  {
   "cell_type": "code",
   "execution_count": 66,
   "id": "b3c632e9-d16f-459c-a685-fd2c1d267b54",
   "metadata": {},
   "outputs": [
    {
     "data": {
      "text/plain": [
       "9"
      ]
     },
     "execution_count": 66,
     "metadata": {},
     "output_type": "execute_result"
    }
   ],
   "source": [
    "# Source:  https://stackoverflow.com/questions/11553721/using-a-string-variable-as-a-variable-name\n",
    "exec('jolly' + '= 9')\n",
    "jolly"
   ]
  },
  {
   "cell_type": "code",
   "execution_count": 158,
   "id": "db67a029-460e-4675-bd56-03189a3b38a9",
   "metadata": {
    "tags": []
   },
   "outputs": [],
   "source": [
    "\n",
    "\n",
    "def split_fit_metric_frame(X, y, mod_name):\n",
    "    # Create a train and test split\n",
    "    X_train, X_test, y_train, y_test = train_test_split(X, y, random_state=0, test_size=0.3)\n",
    "    \n",
    "    # Create local Linear Regression instance:\n",
    "    lr = LinearRegression()\n",
    "    \n",
    "    # Fit the function:\n",
    "    lr.fit(X_train, y_train)\n",
    "    \n",
    "    # Create predictions:\n",
    "    pred_train = lr.predict(X_train)\n",
    "    pred_test = lr.predict(X_test)\n",
    "\n",
    "    # Get R2 train & test scores:\n",
    "    r2_train = lr.score(X_train, y_train)\n",
    "    r2_test = lr.score(X_test, y_test)\n",
    "    \n",
    "    # Get train & test RMSE:\n",
    "    rmse_train = mean_squared_error(y_train, pred_train, squared=False)\n",
    "    rmse_test = mean_squared_error(y_test, pred_test, squared=False)\n",
    "    \n",
    "    # Get mean absolute error:\n",
    "    mae_train = mean_absolute_error(y_train, pred_train)\n",
    "    mae_test = mean_absolute_error(y_test, pred_test)\n",
    "    \n",
    "    # Get cross validation scores and their mean\n",
    "    cv_train = cross_val_score(lr, X_train, y_train, )\n",
    "    cv_train_mean = cross_val_score(lr, X_train, y_train).mean()\n",
    "    \n",
    "    print(f'R2_train: {round(r2_train, 4)}')\n",
    "    print(f'R2_test: {round(r2_test, 4)}')\n",
    "    print(f'RMSE_train: {round(rmse_train)}')\n",
    "    print(f'RMSE_test: {round(rmse_test)}')\n",
    "    print(f'mae_train: {round(mae_train)}')\n",
    "    print(f'mae_test: {round(mae_test)}')\n",
    "    \n",
    "    # Sounce for numpy.around():  https://numpy.org/doc/stable/reference/generated/numpy.around.html\n",
    "    print(f'cv_train: {np.around(cv_train, 4)}')\n",
    "    print(f'cv_train_mean: {np.around(cv_train_mean, 4)}')\n",
    "    \n",
    "    items = ['R2_train', 'R2_test', 'RMSE_train', 'RMSE_test', 'mae_train', 'mae_test', 'cv_train_mean', 'cv_train_1', 'cv_train_2', 'cv_train_3', 'cv_train_4', 'cv_train_5',]\n",
    "    variables = [round(r2_train, 4), \n",
    "                 round(r2_test, 4), \n",
    "                 round(rmse_train), \n",
    "                 round(rmse_test), \n",
    "                 round(mae_train), \n",
    "                 round(mae_test), \n",
    "                 np.around(cv_train_mean, 4),\n",
    "                 np.around(cv_train[0], 4),\n",
    "                 np.around(cv_train[1], 4),\n",
    "                 np.around(cv_train[2], 4),\n",
    "                 np.around(cv_train[3], 4),\n",
    "                 np.around(cv_train[4], 4),\n",
    "                ]\n",
    "    \n",
    "    return pd.DataFrame(variables, index = items, columns = [f'{mod_name}'])\n",
    "    "
   ]
  },
  {
   "cell_type": "code",
   "execution_count": 159,
   "id": "1b4315ea-96a7-4c89-9b73-b6a0db984ef0",
   "metadata": {},
   "outputs": [
    {
     "name": "stdout",
     "output_type": "stream",
     "text": [
      "R2_train: 0.8621\n",
      "R2_test: 0.7976\n",
      "RMSE_train: 29492\n",
      "RMSE_test: 35452\n",
      "mae_train: 19786\n",
      "mae_test: 20797\n",
      "cv_train: [0.8366 0.8572 0.7984 0.854  0.7699]\n",
      "cv_train_mean: 0.8232\n"
     ]
    },
    {
     "data": {
      "text/html": [
       "<div>\n",
       "<style scoped>\n",
       "    .dataframe tbody tr th:only-of-type {\n",
       "        vertical-align: middle;\n",
       "    }\n",
       "\n",
       "    .dataframe tbody tr th {\n",
       "        vertical-align: top;\n",
       "    }\n",
       "\n",
       "    .dataframe thead th {\n",
       "        text-align: right;\n",
       "    }\n",
       "</style>\n",
       "<table border=\"1\" class=\"dataframe\">\n",
       "  <thead>\n",
       "    <tr style=\"text-align: right;\">\n",
       "      <th></th>\n",
       "      <th>mod</th>\n",
       "    </tr>\n",
       "  </thead>\n",
       "  <tbody>\n",
       "    <tr>\n",
       "      <th>R2_train</th>\n",
       "      <td>0.8621</td>\n",
       "    </tr>\n",
       "    <tr>\n",
       "      <th>R2_test</th>\n",
       "      <td>0.7976</td>\n",
       "    </tr>\n",
       "    <tr>\n",
       "      <th>RMSE_train</th>\n",
       "      <td>29492.0000</td>\n",
       "    </tr>\n",
       "    <tr>\n",
       "      <th>RMSE_test</th>\n",
       "      <td>35452.0000</td>\n",
       "    </tr>\n",
       "    <tr>\n",
       "      <th>mae_train</th>\n",
       "      <td>19786.0000</td>\n",
       "    </tr>\n",
       "    <tr>\n",
       "      <th>mae_test</th>\n",
       "      <td>20797.0000</td>\n",
       "    </tr>\n",
       "    <tr>\n",
       "      <th>cv_train_mean</th>\n",
       "      <td>0.8232</td>\n",
       "    </tr>\n",
       "    <tr>\n",
       "      <th>cv_train_1</th>\n",
       "      <td>0.8366</td>\n",
       "    </tr>\n",
       "    <tr>\n",
       "      <th>cv_train_2</th>\n",
       "      <td>0.8572</td>\n",
       "    </tr>\n",
       "    <tr>\n",
       "      <th>cv_train_3</th>\n",
       "      <td>0.7984</td>\n",
       "    </tr>\n",
       "    <tr>\n",
       "      <th>cv_train_4</th>\n",
       "      <td>0.8540</td>\n",
       "    </tr>\n",
       "    <tr>\n",
       "      <th>cv_train_5</th>\n",
       "      <td>0.7699</td>\n",
       "    </tr>\n",
       "  </tbody>\n",
       "</table>\n",
       "</div>"
      ],
      "text/plain": [
       "                      mod\n",
       "R2_train           0.8621\n",
       "R2_test            0.7976\n",
       "RMSE_train     29492.0000\n",
       "RMSE_test      35452.0000\n",
       "mae_train      19786.0000\n",
       "mae_test       20797.0000\n",
       "cv_train_mean      0.8232\n",
       "cv_train_1         0.8366\n",
       "cv_train_2         0.8572\n",
       "cv_train_3         0.7984\n",
       "cv_train_4         0.8540\n",
       "cv_train_5         0.7699"
      ]
     },
     "execution_count": 159,
     "metadata": {},
     "output_type": "execute_result"
    }
   ],
   "source": [
    "split_fit_metric_frame(X_init, y_init, 'mod')"
   ]
  },
  {
   "cell_type": "code",
   "execution_count": 160,
   "id": "f3433354-1d15-40ce-b497-c8750d9abefe",
   "metadata": {},
   "outputs": [
    {
     "name": "stdout",
     "output_type": "stream",
     "text": [
      "R2_train: 0.8621\n",
      "R2_test: 0.7976\n",
      "RMSE_train: 29492\n",
      "RMSE_test: 35452\n",
      "mae_train: 19786\n",
      "mae_test: 20797\n",
      "cv_train: [0.8366 0.8572 0.7984 0.854  0.7699]\n",
      "cv_train_mean: 0.8232\n"
     ]
    }
   ],
   "source": [
    "funtime = split_fit_metric_frame(X_init, y_init, 'mod')"
   ]
  },
  {
   "cell_type": "code",
   "execution_count": 162,
   "id": "edcb0fa0-49cb-4dcc-ac8f-1bd12f31d753",
   "metadata": {},
   "outputs": [
    {
     "name": "stdout",
     "output_type": "stream",
     "text": [
      "R2_train: 0.8621\n",
      "R2_test: 0.7976\n",
      "RMSE_train: 29492\n",
      "RMSE_test: 35452\n",
      "mae_train: 19786\n",
      "mae_test: 20797\n",
      "cv_train: [0.8366 0.8572 0.7984 0.854  0.7699]\n",
      "cv_train_mean: 0.8232\n"
     ]
    },
    {
     "data": {
      "text/html": [
       "<div>\n",
       "<style scoped>\n",
       "    .dataframe tbody tr th:only-of-type {\n",
       "        vertical-align: middle;\n",
       "    }\n",
       "\n",
       "    .dataframe tbody tr th {\n",
       "        vertical-align: top;\n",
       "    }\n",
       "\n",
       "    .dataframe thead th {\n",
       "        text-align: right;\n",
       "    }\n",
       "</style>\n",
       "<table border=\"1\" class=\"dataframe\">\n",
       "  <thead>\n",
       "    <tr style=\"text-align: right;\">\n",
       "      <th></th>\n",
       "      <th>mod</th>\n",
       "      <th>modZZ</th>\n",
       "    </tr>\n",
       "  </thead>\n",
       "  <tbody>\n",
       "    <tr>\n",
       "      <th>R2_train</th>\n",
       "      <td>0.8621</td>\n",
       "      <td>0.8621</td>\n",
       "    </tr>\n",
       "    <tr>\n",
       "      <th>R2_test</th>\n",
       "      <td>0.7976</td>\n",
       "      <td>0.7976</td>\n",
       "    </tr>\n",
       "    <tr>\n",
       "      <th>RMSE_train</th>\n",
       "      <td>29492.0000</td>\n",
       "      <td>29492.0000</td>\n",
       "    </tr>\n",
       "    <tr>\n",
       "      <th>RMSE_test</th>\n",
       "      <td>35452.0000</td>\n",
       "      <td>35452.0000</td>\n",
       "    </tr>\n",
       "    <tr>\n",
       "      <th>mae_train</th>\n",
       "      <td>19786.0000</td>\n",
       "      <td>19786.0000</td>\n",
       "    </tr>\n",
       "    <tr>\n",
       "      <th>mae_test</th>\n",
       "      <td>20797.0000</td>\n",
       "      <td>20797.0000</td>\n",
       "    </tr>\n",
       "    <tr>\n",
       "      <th>cv_train_mean</th>\n",
       "      <td>0.8232</td>\n",
       "      <td>0.8232</td>\n",
       "    </tr>\n",
       "    <tr>\n",
       "      <th>cv_train_1</th>\n",
       "      <td>0.8366</td>\n",
       "      <td>0.8366</td>\n",
       "    </tr>\n",
       "    <tr>\n",
       "      <th>cv_train_2</th>\n",
       "      <td>0.8572</td>\n",
       "      <td>0.8572</td>\n",
       "    </tr>\n",
       "    <tr>\n",
       "      <th>cv_train_3</th>\n",
       "      <td>0.7984</td>\n",
       "      <td>0.7984</td>\n",
       "    </tr>\n",
       "    <tr>\n",
       "      <th>cv_train_4</th>\n",
       "      <td>0.8540</td>\n",
       "      <td>0.8540</td>\n",
       "    </tr>\n",
       "    <tr>\n",
       "      <th>cv_train_5</th>\n",
       "      <td>0.7699</td>\n",
       "      <td>0.7699</td>\n",
       "    </tr>\n",
       "  </tbody>\n",
       "</table>\n",
       "</div>"
      ],
      "text/plain": [
       "                      mod       modZZ\n",
       "R2_train           0.8621      0.8621\n",
       "R2_test            0.7976      0.7976\n",
       "RMSE_train     29492.0000  29492.0000\n",
       "RMSE_test      35452.0000  35452.0000\n",
       "mae_train      19786.0000  19786.0000\n",
       "mae_test       20797.0000  20797.0000\n",
       "cv_train_mean      0.8232      0.8232\n",
       "cv_train_1         0.8366      0.8366\n",
       "cv_train_2         0.8572      0.8572\n",
       "cv_train_3         0.7984      0.7984\n",
       "cv_train_4         0.8540      0.8540\n",
       "cv_train_5         0.7699      0.7699"
      ]
     },
     "execution_count": 162,
     "metadata": {},
     "output_type": "execute_result"
    }
   ],
   "source": [
    "funtime.merge(split_fit_metric_frame(X_init, y_init, 'modZZ'), left_index=True, right_index=True)"
   ]
  },
  {
   "cell_type": "code",
   "execution_count": 113,
   "id": "1271e4b1-9712-4f8b-b5ae-b61a9f20c494",
   "metadata": {},
   "outputs": [
    {
     "name": "stdout",
     "output_type": "stream",
     "text": [
      "LinearRegression()\n"
     ]
    }
   ],
   "source": [
    "print(LinearRegression().fit(X_init, y_init))"
   ]
  },
  {
   "cell_type": "code",
   "execution_count": 115,
   "id": "6f911ff4-7383-4227-988b-417b66f216f0",
   "metadata": {},
   "outputs": [
    {
     "ename": "NotFittedError",
     "evalue": "This LinearRegression instance is not fitted yet. Call 'fit' with appropriate arguments before using this estimator.",
     "output_type": "error",
     "traceback": [
      "\u001b[1;31m---------------------------------------------------------------------------\u001b[0m",
      "\u001b[1;31mNotFittedError\u001b[0m                            Traceback (most recent call last)",
      "\u001b[1;32m~\\AppData\\Local\\Temp\\ipykernel_8624\\1799431495.py\u001b[0m in \u001b[0;36m<module>\u001b[1;34m\u001b[0m\n\u001b[1;32m----> 1\u001b[1;33m \u001b[0mpred_train\u001b[0m \u001b[1;33m=\u001b[0m \u001b[0mLinearRegression\u001b[0m\u001b[1;33m(\u001b[0m\u001b[1;33m)\u001b[0m\u001b[1;33m.\u001b[0m\u001b[0mpredict\u001b[0m\u001b[1;33m(\u001b[0m\u001b[0mX_init\u001b[0m\u001b[1;33m)\u001b[0m\u001b[1;33m\u001b[0m\u001b[1;33m\u001b[0m\u001b[0m\n\u001b[0m",
      "\u001b[1;32m~\\anaconda3\\lib\\site-packages\\sklearn\\linear_model\\_base.py\u001b[0m in \u001b[0;36mpredict\u001b[1;34m(self, X)\u001b[0m\n\u001b[0;32m    360\u001b[0m             \u001b[0mReturns\u001b[0m \u001b[0mpredicted\u001b[0m \u001b[0mvalues\u001b[0m\u001b[1;33m.\u001b[0m\u001b[1;33m\u001b[0m\u001b[1;33m\u001b[0m\u001b[0m\n\u001b[0;32m    361\u001b[0m         \"\"\"\n\u001b[1;32m--> 362\u001b[1;33m         \u001b[1;32mreturn\u001b[0m \u001b[0mself\u001b[0m\u001b[1;33m.\u001b[0m\u001b[0m_decision_function\u001b[0m\u001b[1;33m(\u001b[0m\u001b[0mX\u001b[0m\u001b[1;33m)\u001b[0m\u001b[1;33m\u001b[0m\u001b[1;33m\u001b[0m\u001b[0m\n\u001b[0m\u001b[0;32m    363\u001b[0m \u001b[1;33m\u001b[0m\u001b[0m\n\u001b[0;32m    364\u001b[0m     \u001b[0m_preprocess_data\u001b[0m \u001b[1;33m=\u001b[0m \u001b[0mstaticmethod\u001b[0m\u001b[1;33m(\u001b[0m\u001b[0m_preprocess_data\u001b[0m\u001b[1;33m)\u001b[0m\u001b[1;33m\u001b[0m\u001b[1;33m\u001b[0m\u001b[0m\n",
      "\u001b[1;32m~\\anaconda3\\lib\\site-packages\\sklearn\\linear_model\\_base.py\u001b[0m in \u001b[0;36m_decision_function\u001b[1;34m(self, X)\u001b[0m\n\u001b[0;32m    341\u001b[0m \u001b[1;33m\u001b[0m\u001b[0m\n\u001b[0;32m    342\u001b[0m     \u001b[1;32mdef\u001b[0m \u001b[0m_decision_function\u001b[0m\u001b[1;33m(\u001b[0m\u001b[0mself\u001b[0m\u001b[1;33m,\u001b[0m \u001b[0mX\u001b[0m\u001b[1;33m)\u001b[0m\u001b[1;33m:\u001b[0m\u001b[1;33m\u001b[0m\u001b[1;33m\u001b[0m\u001b[0m\n\u001b[1;32m--> 343\u001b[1;33m         \u001b[0mcheck_is_fitted\u001b[0m\u001b[1;33m(\u001b[0m\u001b[0mself\u001b[0m\u001b[1;33m)\u001b[0m\u001b[1;33m\u001b[0m\u001b[1;33m\u001b[0m\u001b[0m\n\u001b[0m\u001b[0;32m    344\u001b[0m \u001b[1;33m\u001b[0m\u001b[0m\n\u001b[0;32m    345\u001b[0m         \u001b[0mX\u001b[0m \u001b[1;33m=\u001b[0m \u001b[0mself\u001b[0m\u001b[1;33m.\u001b[0m\u001b[0m_validate_data\u001b[0m\u001b[1;33m(\u001b[0m\u001b[0mX\u001b[0m\u001b[1;33m,\u001b[0m \u001b[0maccept_sparse\u001b[0m\u001b[1;33m=\u001b[0m\u001b[1;33m[\u001b[0m\u001b[1;34m\"csr\"\u001b[0m\u001b[1;33m,\u001b[0m \u001b[1;34m\"csc\"\u001b[0m\u001b[1;33m,\u001b[0m \u001b[1;34m\"coo\"\u001b[0m\u001b[1;33m]\u001b[0m\u001b[1;33m,\u001b[0m \u001b[0mreset\u001b[0m\u001b[1;33m=\u001b[0m\u001b[1;32mFalse\u001b[0m\u001b[1;33m)\u001b[0m\u001b[1;33m\u001b[0m\u001b[1;33m\u001b[0m\u001b[0m\n",
      "\u001b[1;32m~\\anaconda3\\lib\\site-packages\\sklearn\\utils\\validation.py\u001b[0m in \u001b[0;36mcheck_is_fitted\u001b[1;34m(estimator, attributes, msg, all_or_any)\u001b[0m\n\u001b[0;32m   1220\u001b[0m \u001b[1;33m\u001b[0m\u001b[0m\n\u001b[0;32m   1221\u001b[0m     \u001b[1;32mif\u001b[0m \u001b[1;32mnot\u001b[0m \u001b[0mfitted\u001b[0m\u001b[1;33m:\u001b[0m\u001b[1;33m\u001b[0m\u001b[1;33m\u001b[0m\u001b[0m\n\u001b[1;32m-> 1222\u001b[1;33m         \u001b[1;32mraise\u001b[0m \u001b[0mNotFittedError\u001b[0m\u001b[1;33m(\u001b[0m\u001b[0mmsg\u001b[0m \u001b[1;33m%\u001b[0m \u001b[1;33m{\u001b[0m\u001b[1;34m\"name\"\u001b[0m\u001b[1;33m:\u001b[0m \u001b[0mtype\u001b[0m\u001b[1;33m(\u001b[0m\u001b[0mestimator\u001b[0m\u001b[1;33m)\u001b[0m\u001b[1;33m.\u001b[0m\u001b[0m__name__\u001b[0m\u001b[1;33m}\u001b[0m\u001b[1;33m)\u001b[0m\u001b[1;33m\u001b[0m\u001b[1;33m\u001b[0m\u001b[0m\n\u001b[0m\u001b[0;32m   1223\u001b[0m \u001b[1;33m\u001b[0m\u001b[0m\n\u001b[0;32m   1224\u001b[0m \u001b[1;33m\u001b[0m\u001b[0m\n",
      "\u001b[1;31mNotFittedError\u001b[0m: This LinearRegression instance is not fitted yet. Call 'fit' with appropriate arguments before using this estimator."
     ]
    }
   ],
   "source": [
    "pred_train = LinearRegression().predict(X_init)"
   ]
  },
  {
   "cell_type": "code",
   "execution_count": 61,
   "id": "b4d21528-cc86-4030-8947-34bde374afe4",
   "metadata": {},
   "outputs": [
    {
     "data": {
      "image/png": "[encoded data removed]",
      "text/plain": [
       "<Figure size 640x480 with 1 Axes>"
      ]
     },
     "metadata": {},
     "output_type": "display_data"
    }
   ],
   "source": [
    "# PLot a histogram of the residuals\n",
    "#  Source for legend:  https://matplotlib.org/stable/api/_as_gen/matplotlib.pyplot.legend.html\n",
    "#  Source for legend labels:  https://stackoverflow.com/questions/59346731/no-handles-with-labels-found-to-put-in-legend\n",
    "plt.hist(resid_init_train, bins = 100, alpha = 0.5, label = 'Train');\n",
    "plt.hist(resid_init_test, color = 'red', bins = 100, alpha = 0.5, label='Test');\n",
    "plt.legend();"
   ]
  },
  {
   "cell_type": "code",
   "execution_count": 37,
   "id": "414f56a1-8d1b-4e3d-b3c8-224792700e2f",
   "metadata": {},
   "outputs": [
    {
     "data": {
      "text/plain": [
       "<matplotlib.collections.PathCollection at 0x1d7aa683310>"
      ]
     },
     "execution_count": 37,
     "metadata": {},
     "output_type": "execute_result"
    },
    {
     "data": {
      "image/png": "[encoded data removed]",
      "text/plain": [
       "<Figure size 640x480 with 1 Axes>"
      ]
     },
     "metadata": {},
     "output_type": "display_data"
    }
   ],
   "source": [
    "plt.scatter(y_init_train, preds_train)"
   ]
  },
  {
   "cell_type": "markdown",
   "id": "3308ea9a-c95c-4c16-91f8-1ef04542843f",
   "metadata": {
    "tags": []
   },
   "source": [
    "# Appendix A - Relevant Outside Research Conclusions\n",
    "Below are a list of conclusions derivded from research sources found on the internet that are pertinent to the analysis above:\n",
    "* The garage does NOT count towards total sqaure footage: https://raleighrealtyhomes.com/blog/measure-square-footage/#:~:text=Does%20the%20garage%20count%20in,converted%20into%20a%20living%20space.\n",
    "* The basement does NOT count towards the total square footage:  https://www.realtor.com/advice/buy/does-basement-count-square-footage-of-a-home/#:~:text=Does%20a%20basement%20count%20toward,that%20means%20below%20ground%20level.\n",
    "* Townhouse end units worth more:  https://firsthousecoach.com/is-an-end-unit-townhouse-worth-more/#:~:text=The%20Differences%20Between%20An%20End%20Unit%20VS.&text=More%20than%20likely%2C%20you%20will,be%20desirable%20for%20many%20people.\n",
    "* Importance of Neighborhood in home value:  https://www.opendoor.com/articles/factors-that-influence-home-value\n",
    "\n",
    "\n",
    "\n",
    "<font color= 'red'>STRING OF TEXT"
   ]
  },
  {
   "cell_type": "code",
   "execution_count": 38,
   "id": "b74dc4be-b99b-4f29-b722-0da2b066cfb7",
   "metadata": {
    "tags": []
   },
   "outputs": [
    {
     "data": {
      "text/plain": [
       "2007    498\n",
       "2009    446\n",
       "2006    438\n",
       "2008    435\n",
       "2010    234\n",
       "Name: Yr Sold, dtype: int64"
      ]
     },
     "execution_count": 38,
     "metadata": {},
     "output_type": "execute_result"
    }
   ],
   "source": [
    "train['Yr Sold'].value_counts()"
   ]
  },
  {
   "cell_type": "code",
   "execution_count": 39,
   "id": "eeae8692-7a9c-4913-9a08-450a14578a32",
   "metadata": {},
   "outputs": [
    {
     "ename": "KeyError",
     "evalue": "'Paved Drive'",
     "output_type": "error",
     "traceback": [
      "\u001b[1;31m---------------------------------------------------------------------------\u001b[0m",
      "\u001b[1;31mKeyError\u001b[0m                                  Traceback (most recent call last)",
      "\u001b[1;32m~\\anaconda3\\lib\\site-packages\\pandas\\core\\indexes\\base.py\u001b[0m in \u001b[0;36mget_loc\u001b[1;34m(self, key, method, tolerance)\u001b[0m\n\u001b[0;32m   3628\u001b[0m             \u001b[1;32mtry\u001b[0m\u001b[1;33m:\u001b[0m\u001b[1;33m\u001b[0m\u001b[1;33m\u001b[0m\u001b[0m\n\u001b[1;32m-> 3629\u001b[1;33m                 \u001b[1;32mreturn\u001b[0m \u001b[0mself\u001b[0m\u001b[1;33m.\u001b[0m\u001b[0m_engine\u001b[0m\u001b[1;33m.\u001b[0m\u001b[0mget_loc\u001b[0m\u001b[1;33m(\u001b[0m\u001b[0mcasted_key\u001b[0m\u001b[1;33m)\u001b[0m\u001b[1;33m\u001b[0m\u001b[1;33m\u001b[0m\u001b[0m\n\u001b[0m\u001b[0;32m   3630\u001b[0m             \u001b[1;32mexcept\u001b[0m \u001b[0mKeyError\u001b[0m \u001b[1;32mas\u001b[0m \u001b[0merr\u001b[0m\u001b[1;33m:\u001b[0m\u001b[1;33m\u001b[0m\u001b[1;33m\u001b[0m\u001b[0m\n",
      "\u001b[1;32m~\\anaconda3\\lib\\site-packages\\pandas\\_libs\\index.pyx\u001b[0m in \u001b[0;36mpandas._libs.index.IndexEngine.get_loc\u001b[1;34m()\u001b[0m\n",
      "\u001b[1;32m~\\anaconda3\\lib\\site-packages\\pandas\\_libs\\index.pyx\u001b[0m in \u001b[0;36mpandas._libs.index.IndexEngine.get_loc\u001b[1;34m()\u001b[0m\n",
      "\u001b[1;32mpandas\\_libs\\hashtable_class_helper.pxi\u001b[0m in \u001b[0;36mpandas._libs.hashtable.PyObjectHashTable.get_item\u001b[1;34m()\u001b[0m\n",
      "\u001b[1;32mpandas\\_libs\\hashtable_class_helper.pxi\u001b[0m in \u001b[0;36mpandas._libs.hashtable.PyObjectHashTable.get_item\u001b[1;34m()\u001b[0m\n",
      "\u001b[1;31mKeyError\u001b[0m: 'Paved Drive'",
      "\nThe above exception was the direct cause of the following exception:\n",
      "\u001b[1;31mKeyError\u001b[0m                                  Traceback (most recent call last)",
      "\u001b[1;32m~\\AppData\\Local\\Temp\\ipykernel_8624\\1419837503.py\u001b[0m in \u001b[0;36m<module>\u001b[1;34m\u001b[0m\n\u001b[0;32m     16\u001b[0m \u001b[1;31m# pd.Series(init_data['Utilities'].unique())\u001b[0m\u001b[1;33m\u001b[0m\u001b[1;33m\u001b[0m\u001b[0m\n\u001b[0;32m     17\u001b[0m \u001b[1;33m\u001b[0m\u001b[0m\n\u001b[1;32m---> 18\u001b[1;33m \u001b[0mpd\u001b[0m\u001b[1;33m.\u001b[0m\u001b[0mSeries\u001b[0m\u001b[1;33m(\u001b[0m\u001b[0minit_data\u001b[0m\u001b[1;33m[\u001b[0m\u001b[1;34m'Paved Drive'\u001b[0m\u001b[1;33m]\u001b[0m\u001b[1;33m.\u001b[0m\u001b[0munique\u001b[0m\u001b[1;33m(\u001b[0m\u001b[1;33m)\u001b[0m\u001b[1;33m,\u001b[0m \u001b[0mname\u001b[0m \u001b[1;33m=\u001b[0m \u001b[1;34m'Paved Drive'\u001b[0m\u001b[1;33m)\u001b[0m\u001b[1;33m.\u001b[0m\u001b[0mindex\u001b[0m\u001b[1;33m\u001b[0m\u001b[1;33m\u001b[0m\u001b[0m\n\u001b[0m\u001b[0;32m     19\u001b[0m \u001b[1;33m\u001b[0m\u001b[0m\n\u001b[0;32m     20\u001b[0m \u001b[0munique_var\u001b[0m \u001b[1;33m=\u001b[0m \u001b[0munique_var\u001b[0m\u001b[1;33m.\u001b[0m\u001b[0mmerge\u001b[0m\u001b[1;33m(\u001b[0m\u001b[0mpd\u001b[0m\u001b[1;33m.\u001b[0m\u001b[0mSeries\u001b[0m\u001b[1;33m(\u001b[0m\u001b[0minit_data\u001b[0m\u001b[1;33m[\u001b[0m\u001b[1;34m'Paved Drive'\u001b[0m\u001b[1;33m]\u001b[0m\u001b[1;33m.\u001b[0m\u001b[0munique\u001b[0m\u001b[1;33m(\u001b[0m\u001b[1;33m)\u001b[0m\u001b[1;33m,\u001b[0m \u001b[0mname\u001b[0m \u001b[1;33m=\u001b[0m \u001b[1;34m'Paved Drive'\u001b[0m\u001b[1;33m)\u001b[0m\u001b[1;33m,\u001b[0m \u001b[1;34m'outer'\u001b[0m\u001b[1;33m,\u001b[0m \u001b[0mleft_index\u001b[0m \u001b[1;33m=\u001b[0m \u001b[1;32mTrue\u001b[0m\u001b[1;33m,\u001b[0m \u001b[0mright_index\u001b[0m \u001b[1;33m=\u001b[0m \u001b[1;32mTrue\u001b[0m\u001b[1;33m,\u001b[0m \u001b[0mcopy\u001b[0m \u001b[1;33m=\u001b[0m \u001b[1;32mFalse\u001b[0m\u001b[1;33m)\u001b[0m\u001b[1;33m\u001b[0m\u001b[1;33m\u001b[0m\u001b[0m\n",
      "\u001b[1;32m~\\anaconda3\\lib\\site-packages\\pandas\\core\\frame.py\u001b[0m in \u001b[0;36m__getitem__\u001b[1;34m(self, key)\u001b[0m\n\u001b[0;32m   3503\u001b[0m             \u001b[1;32mif\u001b[0m \u001b[0mself\u001b[0m\u001b[1;33m.\u001b[0m\u001b[0mcolumns\u001b[0m\u001b[1;33m.\u001b[0m\u001b[0mnlevels\u001b[0m \u001b[1;33m>\u001b[0m \u001b[1;36m1\u001b[0m\u001b[1;33m:\u001b[0m\u001b[1;33m\u001b[0m\u001b[1;33m\u001b[0m\u001b[0m\n\u001b[0;32m   3504\u001b[0m                 \u001b[1;32mreturn\u001b[0m \u001b[0mself\u001b[0m\u001b[1;33m.\u001b[0m\u001b[0m_getitem_multilevel\u001b[0m\u001b[1;33m(\u001b[0m\u001b[0mkey\u001b[0m\u001b[1;33m)\u001b[0m\u001b[1;33m\u001b[0m\u001b[1;33m\u001b[0m\u001b[0m\n\u001b[1;32m-> 3505\u001b[1;33m             \u001b[0mindexer\u001b[0m \u001b[1;33m=\u001b[0m \u001b[0mself\u001b[0m\u001b[1;33m.\u001b[0m\u001b[0mcolumns\u001b[0m\u001b[1;33m.\u001b[0m\u001b[0mget_loc\u001b[0m\u001b[1;33m(\u001b[0m\u001b[0mkey\u001b[0m\u001b[1;33m)\u001b[0m\u001b[1;33m\u001b[0m\u001b[1;33m\u001b[0m\u001b[0m\n\u001b[0m\u001b[0;32m   3506\u001b[0m             \u001b[1;32mif\u001b[0m \u001b[0mis_integer\u001b[0m\u001b[1;33m(\u001b[0m\u001b[0mindexer\u001b[0m\u001b[1;33m)\u001b[0m\u001b[1;33m:\u001b[0m\u001b[1;33m\u001b[0m\u001b[1;33m\u001b[0m\u001b[0m\n\u001b[0;32m   3507\u001b[0m                 \u001b[0mindexer\u001b[0m \u001b[1;33m=\u001b[0m \u001b[1;33m[\u001b[0m\u001b[0mindexer\u001b[0m\u001b[1;33m]\u001b[0m\u001b[1;33m\u001b[0m\u001b[1;33m\u001b[0m\u001b[0m\n",
      "\u001b[1;32m~\\anaconda3\\lib\\site-packages\\pandas\\core\\indexes\\base.py\u001b[0m in \u001b[0;36mget_loc\u001b[1;34m(self, key, method, tolerance)\u001b[0m\n\u001b[0;32m   3629\u001b[0m                 \u001b[1;32mreturn\u001b[0m \u001b[0mself\u001b[0m\u001b[1;33m.\u001b[0m\u001b[0m_engine\u001b[0m\u001b[1;33m.\u001b[0m\u001b[0mget_loc\u001b[0m\u001b[1;33m(\u001b[0m\u001b[0mcasted_key\u001b[0m\u001b[1;33m)\u001b[0m\u001b[1;33m\u001b[0m\u001b[1;33m\u001b[0m\u001b[0m\n\u001b[0;32m   3630\u001b[0m             \u001b[1;32mexcept\u001b[0m \u001b[0mKeyError\u001b[0m \u001b[1;32mas\u001b[0m \u001b[0merr\u001b[0m\u001b[1;33m:\u001b[0m\u001b[1;33m\u001b[0m\u001b[1;33m\u001b[0m\u001b[0m\n\u001b[1;32m-> 3631\u001b[1;33m                 \u001b[1;32mraise\u001b[0m \u001b[0mKeyError\u001b[0m\u001b[1;33m(\u001b[0m\u001b[0mkey\u001b[0m\u001b[1;33m)\u001b[0m \u001b[1;32mfrom\u001b[0m \u001b[0merr\u001b[0m\u001b[1;33m\u001b[0m\u001b[1;33m\u001b[0m\u001b[0m\n\u001b[0m\u001b[0;32m   3632\u001b[0m             \u001b[1;32mexcept\u001b[0m \u001b[0mTypeError\u001b[0m\u001b[1;33m:\u001b[0m\u001b[1;33m\u001b[0m\u001b[1;33m\u001b[0m\u001b[0m\n\u001b[0;32m   3633\u001b[0m                 \u001b[1;31m# If we have a listlike key, _check_indexing_error will raise\u001b[0m\u001b[1;33m\u001b[0m\u001b[1;33m\u001b[0m\u001b[0m\n",
      "\u001b[1;31mKeyError\u001b[0m: 'Paved Drive'"
     ]
    }
   ],
   "source": [
    "#init_data[['Utilities', 'Neighborhood', 'Bldg Type', 'House Style', 'Paved Drive']].unique()\n",
    "\n",
    "# init_data['Utilities'].unique()\n",
    "\n",
    "unique_var = pd.DataFrame(columns=['Neighborhood', 'Bldg Type', 'Paved Drive'])\n",
    "\n",
    "# for i in ['Utilities', 'Neighborhood', 'Bldg Type', 'House Style', 'Paved Drive']:\n",
    "#     unique_var.merge(pd.Series(init_data[i].unique(), name = i), 'outer')\n",
    "\n",
    "# df = pd.DataFrame()\n",
    "\n",
    "\n",
    "# Sourece for unique:  https://sparkbyexamples.com/pandas/pandas-find-unique-values-from-columns/#:~:text=You%20can%20get%20unique%20values,to%20get%20from%20multiple%20columns.\n",
    "# Also used doc string for code below\n",
    "\n",
    "# pd.Series(init_data['Utilities'].unique())\n",
    "\n",
    "pd.Series(init_data['Paved Drive'].unique(), name = 'Paved Drive').index\n",
    "\n",
    "unique_var = unique_var.merge(pd.Series(init_data['Paved Drive'].unique(), name = 'Paved Drive'), 'outer', left_index = True, right_index = True, copy = False)\n",
    "unique_var = unique_var.merge(pd.Series(init_data['Neighborhood'].unique(), name = 'Neighborhood'), 'outer', left_index = True, right_index = True, copy = False)\n",
    "\n",
    "\n",
    "unique_var"
   ]
  },
  {
   "cell_type": "code",
   "execution_count": 32,
   "id": "e964ea6d-006b-470d-8a98-7d5ac519224d",
   "metadata": {},
   "outputs": [
    {
     "data": {
      "text/plain": [
       "(19786.240563288062, 20797.43180866809)"
      ]
     },
     "execution_count": 32,
     "metadata": {},
     "output_type": "execute_result"
    }
   ],
   "source": [
    "sum(abs(y_init_train - preds_train))/len(preds_train), sum(abs(y_init_test - preds_test))/len(preds_test)"
   ]
  },
  {
   "cell_type": "code",
   "execution_count": 96,
   "id": "8bed7f41-e7b8-4e1e-8b78-3b3bc1980506",
   "metadata": {},
   "outputs": [],
   "source": [
    "def fit_metric_frame(mod_name):\n",
    "    # global exec('{mod_name}')\n",
    "    # exec('{mod_name}' + ' =18')\n",
    "    global funtime\n",
    "    funtime = 80\n",
    "    \n",
    "    # exec('global' + f' {mod_name}')\n",
    "    # exec(f'{mod_name}' + '=26')\n"
   ]
  },
  {
   "cell_type": "code",
   "execution_count": 97,
   "id": "7120c3f3-4442-4c87-a454-8d95dbdb85b3",
   "metadata": {},
   "outputs": [],
   "source": [
    "fit_metric_frame('cannon')"
   ]
  },
  {
   "cell_type": "code",
   "execution_count": 91,
   "id": "bd34778a-13c5-436d-8cac-f8a9da9697c2",
   "metadata": {},
   "outputs": [
    {
     "ename": "NameError",
     "evalue": "name 'cannon' is not defined",
     "output_type": "error",
     "traceback": [
      "\u001b[1;31m---------------------------------------------------------------------------\u001b[0m",
      "\u001b[1;31mNameError\u001b[0m                                 Traceback (most recent call last)",
      "\u001b[1;32m~\\AppData\\Local\\Temp\\ipykernel_8624\\2642880572.py\u001b[0m in \u001b[0;36m<module>\u001b[1;34m\u001b[0m\n\u001b[1;32m----> 1\u001b[1;33m \u001b[0mcannon\u001b[0m\u001b[1;33m\u001b[0m\u001b[1;33m\u001b[0m\u001b[0m\n\u001b[0m",
      "\u001b[1;31mNameError\u001b[0m: name 'cannon' is not defined"
     ]
    }
   ],
   "source": [
    "cannon"
   ]
  },
  {
   "cell_type": "code",
   "execution_count": 98,
   "id": "3443bdac-2907-4fa3-b70b-58546cf9870f",
   "metadata": {},
   "outputs": [
    {
     "name": "stdout",
     "output_type": "stream",
     "text": [
      "Variable              Type                Data/Info\n",
      "---------------------------------------------------\n",
      "LinearRegression      ABCMeta             <class 'sklearn.linear_mo<...>._base.LinearRegression'>\n",
      "X_init                DataFrame                 Total Bsmt SF  Gara<...>n[2051 rows x 45 columns]\n",
      "X_init_test           DataFrame                 Total Bsmt SF  Gara<...>\\n[616 rows x 45 columns]\n",
      "X_init_train          DataFrame                 Total Bsmt SF  Gara<...>n[1435 rows x 45 columns]\n",
      "cmap2                 ListedColormap      <matplotlib.colors.Listed<...>ct at 0x000001D7AA5AD190>\n",
      "cross_val_score       function            <function cross_val_score at 0x000001D7A9B8C940>\n",
      "drop_cols             list                n=6\n",
      "drop_nulls            DataFrame                         train   tes<...>.0   16.089712  18.223235\n",
      "features_init         list                n=16\n",
      "fit_metric_frame      function            <function fit_metric_frame at 0x000001D7A9CEAA60>\n",
      "funtime               int                 80\n",
      "holly                 int                 17\n",
      "i                     str                 Paved Drive\n",
      "init_data             DataFrame                 SalePrice  Total Bs<...>n[2051 rows x 46 columns]\n",
      "jolly                 int                 9\n",
      "lr_init               LinearRegression    LinearRegression()\n",
      "mask                  ndarray             46x46: 2116 elems, type `float64`, 16928 bytes\n",
      "matplotlib            module              <module 'matplotlib' from<...>matplotlib\\\\__init__.py'>\n",
      "mean_absolute_error   function            <function mean_absolute_e<...>or at 0x000001D7A9B6F550>\n",
      "mean_squared_error    function            <function mean_squared_er<...>or at 0x000001D7A9B6FEE0>\n",
      "np                    module              <module 'numpy' from 'C:\\<...>ges\\\\numpy\\\\__init__.py'>\n",
      "nulls                 DataFrame                         train   tes<...>\\n\\n[81 rows x 4 columns]\n",
      "pd                    module              <module 'pandas' from 'C:<...>es\\\\pandas\\\\__init__.py'>\n",
      "plt                   module              <module 'matplotlib.pyplo<...>\\\\matplotlib\\\\pyplot.py'>\n",
      "preds_test            ndarray             616: 616 elems, type `float64`, 4928 bytes\n",
      "preds_train           ndarray             1435: 1435 elems, type `float64`, 11480 bytes\n",
      "prelim_features       Index               Index(['Overall Qual', 'Y<...>],\\n      dtype='object')\n",
      "resid_init_test       Series              1581    23121.439021\\n173<...>ngth: 616, dtype: float64\n",
      "resid_init_train      Series              1439   -16419.520258\\n141<...>gth: 1435, dtype: float64\n",
      "sale_pr_corr          Series              Id                -0.0513<...>SalePrice, dtype: float64\n",
      "sns                   module              <module 'seaborn' from 'C<...>s\\\\seaborn\\\\__init__.py'>\n",
      "test                  DataFrame                  Id        PID MS S<...>\\n[878 rows x 74 columns]\n",
      "test_nulls            DataFrame                           0\\nId    <...>\\n\\n[80 rows x 1 columns]\n",
      "train                 DataFrame                   Id        PID MS <...>n[2051 rows x 75 columns]\n",
      "train_nulls           DataFrame                           0\\nId    <...>\\n\\n[81 rows x 1 columns]\n",
      "train_test_split      function            <function train_test_split at 0x000001D7A9AB7160>\n",
      "unique_var            DataFrame           Empty DataFrame\\nColumns:<...>, Paved Drive]\\nIndex: []\n",
      "y_init                Series              0       130500\\n1       2<...>ength: 2051, dtype: int64\n",
      "y_init_test           Series              1581    337000\\n1739    3<...>Length: 616, dtype: int64\n",
      "y_init_train          Series              1439    120000\\n1419    1<...>ength: 1435, dtype: int64\n"
     ]
    }
   ],
   "source": [
    "%whos"
   ]
  }
 ],
 "metadata": {
  "kernelspec": {
   "display_name": "Python 3 (ipykernel)",
   "language": "python",
   "name": "python3"
  },
  "language_info": {
   "codemirror_mode": {
    "name": "ipython",
    "version": 3
   },
   "file_extension": ".py",
   "mimetype": "text/x-python",
   "name": "python",
   "nbconvert_exporter": "python",
   "pygments_lexer": "ipython3",
   "version": "3.9.13"
  }
 },
 "nbformat": 4,
 "nbformat_minor": 5
}
